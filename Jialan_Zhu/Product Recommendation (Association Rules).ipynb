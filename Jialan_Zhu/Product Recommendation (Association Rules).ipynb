{
 "cells": [
  {
   "cell_type": "code",
   "execution_count": 1,
   "metadata": {},
   "outputs": [],
   "source": [
    "import numpy as np\n",
    "import pandas as pd\n",
    "\n",
    "import matplotlib.pyplot as plt\n",
    "import seaborn as sns\n",
    "\n",
    "\n",
    "from copy import deepcopy\n",
    "\n",
    "import statsmodels.api as sm\n",
    "from datetime import datetime\n",
    "\n",
    "import random\n",
    "random.seed(0)\n",
    "pd.set_option('display.max_columns', 500)"
   ]
  },
  {
   "cell_type": "markdown",
   "metadata": {},
   "source": [
    "### create ready to use data frame for flask"
   ]
  },
  {
   "cell_type": "code",
   "execution_count": 180,
   "metadata": {},
   "outputs": [],
   "source": [
    "#the data frame is sorted by support\n",
    "rules=pd.read_csv(\"vendor_cate_rules.csv\").drop('Unnamed: 0',axis=1).sort_values('support',ascending=False)"
   ]
  },
  {
   "cell_type": "code",
   "execution_count": 407,
   "metadata": {},
   "outputs": [],
   "source": [
    "#another data frame sorted by confidence\n",
    "rulec=pd.read_csv(\"vendor_cate_rules.csv\").drop('Unnamed: 0',axis=1).sort_values('confidence',ascending=False)"
   ]
  },
  {
   "cell_type": "code",
   "execution_count": 122,
   "metadata": {},
   "outputs": [
    {
     "name": "stdout",
     "output_type": "stream",
     "text": [
      "(2138, 6)\n"
     ]
    },
    {
     "data": {
      "text/html": [
       "<div>\n",
       "<style scoped>\n",
       "    .dataframe tbody tr th:only-of-type {\n",
       "        vertical-align: middle;\n",
       "    }\n",
       "\n",
       "    .dataframe tbody tr th {\n",
       "        vertical-align: top;\n",
       "    }\n",
       "\n",
       "    .dataframe thead th {\n",
       "        text-align: right;\n",
       "    }\n",
       "</style>\n",
       "<table border=\"1\" class=\"dataframe\">\n",
       "  <thead>\n",
       "    <tr style=\"text-align: right;\">\n",
       "      <th></th>\n",
       "      <th>lhs</th>\n",
       "      <th>rhs</th>\n",
       "      <th>support</th>\n",
       "      <th>confidence</th>\n",
       "      <th>lift</th>\n",
       "      <th>count</th>\n",
       "    </tr>\n",
       "  </thead>\n",
       "  <tbody>\n",
       "    <tr>\n",
       "      <th>4</th>\n",
       "      <td>{}</td>\n",
       "      <td>{us jewelry house:necklace}</td>\n",
       "      <td>0.507561</td>\n",
       "      <td>0.507561</td>\n",
       "      <td>1.000000</td>\n",
       "      <td>1846</td>\n",
       "    </tr>\n",
       "    <tr>\n",
       "      <th>3</th>\n",
       "      <td>{}</td>\n",
       "      <td>{us jewelry house:earring}</td>\n",
       "      <td>0.391531</td>\n",
       "      <td>0.391531</td>\n",
       "      <td>1.000000</td>\n",
       "      <td>1424</td>\n",
       "    </tr>\n",
       "    <tr>\n",
       "      <th>2</th>\n",
       "      <td>{}</td>\n",
       "      <td>{us jewelry house:bracelet}</td>\n",
       "      <td>0.275502</td>\n",
       "      <td>0.275502</td>\n",
       "      <td>1.000000</td>\n",
       "      <td>1002</td>\n",
       "    </tr>\n",
       "    <tr>\n",
       "      <th>433</th>\n",
       "      <td>{us jewelry house:earring}</td>\n",
       "      <td>{us jewelry house:necklace}</td>\n",
       "      <td>0.251306</td>\n",
       "      <td>0.641854</td>\n",
       "      <td>1.264584</td>\n",
       "      <td>914</td>\n",
       "    </tr>\n",
       "    <tr>\n",
       "      <th>434</th>\n",
       "      <td>{us jewelry house:necklace}</td>\n",
       "      <td>{us jewelry house:earring}</td>\n",
       "      <td>0.251306</td>\n",
       "      <td>0.495125</td>\n",
       "      <td>1.264584</td>\n",
       "      <td>914</td>\n",
       "    </tr>\n",
       "  </tbody>\n",
       "</table>\n",
       "</div>"
      ],
      "text/plain": [
       "                             lhs                          rhs   support  \\\n",
       "4                             {}  {us jewelry house:necklace}  0.507561   \n",
       "3                             {}   {us jewelry house:earring}  0.391531   \n",
       "2                             {}  {us jewelry house:bracelet}  0.275502   \n",
       "433   {us jewelry house:earring}  {us jewelry house:necklace}  0.251306   \n",
       "434  {us jewelry house:necklace}   {us jewelry house:earring}  0.251306   \n",
       "\n",
       "     confidence      lift  count  \n",
       "4      0.507561  1.000000   1846  \n",
       "3      0.391531  1.000000   1424  \n",
       "2      0.275502  1.000000   1002  \n",
       "433    0.641854  1.264584    914  \n",
       "434    0.495125  1.264584    914  "
      ]
     },
     "execution_count": 122,
     "metadata": {},
     "output_type": "execute_result"
    }
   ],
   "source": [
    "print(rules.shape)\n",
    "rules.head()"
   ]
  },
  {
   "cell_type": "code",
   "execution_count": 408,
   "metadata": {},
   "outputs": [
    {
     "name": "stdout",
     "output_type": "stream",
     "text": [
      "(2138, 6)\n"
     ]
    },
    {
     "data": {
      "text/html": [
       "<div>\n",
       "<style scoped>\n",
       "    .dataframe tbody tr th:only-of-type {\n",
       "        vertical-align: middle;\n",
       "    }\n",
       "\n",
       "    .dataframe tbody tr th {\n",
       "        vertical-align: top;\n",
       "    }\n",
       "\n",
       "    .dataframe thead th {\n",
       "        text-align: right;\n",
       "    }\n",
       "</style>\n",
       "<table border=\"1\" class=\"dataframe\">\n",
       "  <thead>\n",
       "    <tr style=\"text-align: right;\">\n",
       "      <th></th>\n",
       "      <th>lhs</th>\n",
       "      <th>rhs</th>\n",
       "      <th>support</th>\n",
       "      <th>confidence</th>\n",
       "      <th>lift</th>\n",
       "      <th>count</th>\n",
       "    </tr>\n",
       "  </thead>\n",
       "  <tbody>\n",
       "    <tr>\n",
       "      <th>9</th>\n",
       "      <td>{viola:necklace}</td>\n",
       "      <td>{us jewelry house:necklace}</td>\n",
       "      <td>0.025296</td>\n",
       "      <td>0.968421</td>\n",
       "      <td>1.907989</td>\n",
       "      <td>92</td>\n",
       "    </tr>\n",
       "    <tr>\n",
       "      <th>473</th>\n",
       "      <td>{hush:necklace,romance:necklace}</td>\n",
       "      <td>{us jewelry house:necklace}</td>\n",
       "      <td>0.023921</td>\n",
       "      <td>0.956044</td>\n",
       "      <td>1.883603</td>\n",
       "      <td>87</td>\n",
       "    </tr>\n",
       "    <tr>\n",
       "      <th>1561</th>\n",
       "      <td>{andante:necklace,us jewelry house:bracelet,us...</td>\n",
       "      <td>{us jewelry house:necklace}</td>\n",
       "      <td>0.023096</td>\n",
       "      <td>0.954545</td>\n",
       "      <td>1.880651</td>\n",
       "      <td>84</td>\n",
       "    </tr>\n",
       "    <tr>\n",
       "      <th>1536</th>\n",
       "      <td>{pomina:necklace,us jewelry house:bracelet,us ...</td>\n",
       "      <td>{us jewelry house:necklace}</td>\n",
       "      <td>0.020071</td>\n",
       "      <td>0.948052</td>\n",
       "      <td>1.867857</td>\n",
       "      <td>73</td>\n",
       "    </tr>\n",
       "    <tr>\n",
       "      <th>5</th>\n",
       "      <td>{image:necklace}</td>\n",
       "      <td>{us jewelry house:necklace}</td>\n",
       "      <td>0.022271</td>\n",
       "      <td>0.941860</td>\n",
       "      <td>1.855659</td>\n",
       "      <td>81</td>\n",
       "    </tr>\n",
       "  </tbody>\n",
       "</table>\n",
       "</div>"
      ],
      "text/plain": [
       "                                                    lhs  \\\n",
       "9                                      {viola:necklace}   \n",
       "473                    {hush:necklace,romance:necklace}   \n",
       "1561  {andante:necklace,us jewelry house:bracelet,us...   \n",
       "1536  {pomina:necklace,us jewelry house:bracelet,us ...   \n",
       "5                                      {image:necklace}   \n",
       "\n",
       "                              rhs   support  confidence      lift  count  \n",
       "9     {us jewelry house:necklace}  0.025296    0.968421  1.907989     92  \n",
       "473   {us jewelry house:necklace}  0.023921    0.956044  1.883603     87  \n",
       "1561  {us jewelry house:necklace}  0.023096    0.954545  1.880651     84  \n",
       "1536  {us jewelry house:necklace}  0.020071    0.948052  1.867857     73  \n",
       "5     {us jewelry house:necklace}  0.022271    0.941860  1.855659     81  "
      ]
     },
     "execution_count": 408,
     "metadata": {},
     "output_type": "execute_result"
    }
   ],
   "source": [
    "print(rulec.shape)\n",
    "rulec.head()"
   ]
  },
  {
   "cell_type": "code",
   "execution_count": 409,
   "metadata": {},
   "outputs": [
    {
     "data": {
      "text/plain": [
       "'{}'"
      ]
     },
     "execution_count": 409,
     "metadata": {},
     "output_type": "execute_result"
    }
   ],
   "source": [
    "rules['lhs'].iloc[0]"
   ]
  },
  {
   "cell_type": "code",
   "execution_count": 410,
   "metadata": {},
   "outputs": [],
   "source": [
    "#remove the empty rules\n",
    "rules_=rules[rules['lhs']!='{}']\n",
    "rulec_=rulec[rulec['lhs']!='{}']"
   ]
  },
  {
   "cell_type": "code",
   "execution_count": 411,
   "metadata": {},
   "outputs": [
    {
     "name": "stderr",
     "output_type": "stream",
     "text": [
      "/Users/jialanzhu/anaconda3/lib/python3.6/site-packages/ipykernel_launcher.py:2: SettingWithCopyWarning: \n",
      "A value is trying to be set on a copy of a slice from a DataFrame.\n",
      "Try using .loc[row_indexer,col_indexer] = value instead\n",
      "\n",
      "See the caveats in the documentation: http://pandas.pydata.org/pandas-docs/stable/indexing.html#indexing-view-versus-copy\n",
      "  \n",
      "/Users/jialanzhu/anaconda3/lib/python3.6/site-packages/ipykernel_launcher.py:3: SettingWithCopyWarning: \n",
      "A value is trying to be set on a copy of a slice from a DataFrame.\n",
      "Try using .loc[row_indexer,col_indexer] = value instead\n",
      "\n",
      "See the caveats in the documentation: http://pandas.pydata.org/pandas-docs/stable/indexing.html#indexing-view-versus-copy\n",
      "  This is separate from the ipykernel package so we can avoid doing imports until\n",
      "/Users/jialanzhu/anaconda3/lib/python3.6/site-packages/ipykernel_launcher.py:5: SettingWithCopyWarning: \n",
      "A value is trying to be set on a copy of a slice from a DataFrame.\n",
      "Try using .loc[row_indexer,col_indexer] = value instead\n",
      "\n",
      "See the caveats in the documentation: http://pandas.pydata.org/pandas-docs/stable/indexing.html#indexing-view-versus-copy\n",
      "  \"\"\"\n",
      "/Users/jialanzhu/anaconda3/lib/python3.6/site-packages/ipykernel_launcher.py:6: SettingWithCopyWarning: \n",
      "A value is trying to be set on a copy of a slice from a DataFrame.\n",
      "Try using .loc[row_indexer,col_indexer] = value instead\n",
      "\n",
      "See the caveats in the documentation: http://pandas.pydata.org/pandas-docs/stable/indexing.html#indexing-view-versus-copy\n",
      "  \n"
     ]
    }
   ],
   "source": [
    "#remove the {}\n",
    "rules_['lhs']=rules_['lhs'].replace('[{}]', '', regex=True)\n",
    "rules_['rhs']=rules_['rhs'].replace('[{}]', '', regex=True)\n",
    "####\n",
    "rulec_['lhs']=rulec_['lhs'].replace('[{}]', '', regex=True)\n",
    "rulec_['rhs']=rulec_['rhs'].replace('[{}]', '', regex=True)"
   ]
  },
  {
   "cell_type": "code",
   "execution_count": 179,
   "metadata": {},
   "outputs": [
    {
     "data": {
      "text/html": [
       "<div>\n",
       "<style scoped>\n",
       "    .dataframe tbody tr th:only-of-type {\n",
       "        vertical-align: middle;\n",
       "    }\n",
       "\n",
       "    .dataframe tbody tr th {\n",
       "        vertical-align: top;\n",
       "    }\n",
       "\n",
       "    .dataframe thead th {\n",
       "        text-align: right;\n",
       "    }\n",
       "</style>\n",
       "<table border=\"1\" class=\"dataframe\">\n",
       "  <thead>\n",
       "    <tr style=\"text-align: right;\">\n",
       "      <th></th>\n",
       "      <th>lhs</th>\n",
       "      <th>rhs</th>\n",
       "      <th>support</th>\n",
       "      <th>confidence</th>\n",
       "      <th>lift</th>\n",
       "      <th>count</th>\n",
       "    </tr>\n",
       "  </thead>\n",
       "  <tbody>\n",
       "    <tr>\n",
       "      <th>433</th>\n",
       "      <td>us jewelry house:earring</td>\n",
       "      <td>us jewelry house:necklace</td>\n",
       "      <td>0.251306</td>\n",
       "      <td>0.641854</td>\n",
       "      <td>1.264584</td>\n",
       "      <td>914</td>\n",
       "    </tr>\n",
       "    <tr>\n",
       "      <th>434</th>\n",
       "      <td>us jewelry house:necklace</td>\n",
       "      <td>us jewelry house:earring</td>\n",
       "      <td>0.251306</td>\n",
       "      <td>0.495125</td>\n",
       "      <td>1.264584</td>\n",
       "      <td>914</td>\n",
       "    </tr>\n",
       "    <tr>\n",
       "      <th>431</th>\n",
       "      <td>us jewelry house:bracelet</td>\n",
       "      <td>us jewelry house:necklace</td>\n",
       "      <td>0.204014</td>\n",
       "      <td>0.740519</td>\n",
       "      <td>1.458975</td>\n",
       "      <td>742</td>\n",
       "    </tr>\n",
       "    <tr>\n",
       "      <th>432</th>\n",
       "      <td>us jewelry house:necklace</td>\n",
       "      <td>us jewelry house:bracelet</td>\n",
       "      <td>0.204014</td>\n",
       "      <td>0.401950</td>\n",
       "      <td>1.458975</td>\n",
       "      <td>742</td>\n",
       "    </tr>\n",
       "    <tr>\n",
       "      <th>429</th>\n",
       "      <td>us jewelry house:bracelet</td>\n",
       "      <td>us jewelry house:earring</td>\n",
       "      <td>0.162497</td>\n",
       "      <td>0.589820</td>\n",
       "      <td>1.506444</td>\n",
       "      <td>591</td>\n",
       "    </tr>\n",
       "  </tbody>\n",
       "</table>\n",
       "</div>"
      ],
      "text/plain": [
       "                           lhs                        rhs   support  \\\n",
       "433   us jewelry house:earring  us jewelry house:necklace  0.251306   \n",
       "434  us jewelry house:necklace   us jewelry house:earring  0.251306   \n",
       "431  us jewelry house:bracelet  us jewelry house:necklace  0.204014   \n",
       "432  us jewelry house:necklace  us jewelry house:bracelet  0.204014   \n",
       "429  us jewelry house:bracelet   us jewelry house:earring  0.162497   \n",
       "\n",
       "     confidence      lift  count  \n",
       "433    0.641854  1.264584    914  \n",
       "434    0.495125  1.264584    914  \n",
       "431    0.740519  1.458975    742  \n",
       "432    0.401950  1.458975    742  \n",
       "429    0.589820  1.506444    591  "
      ]
     },
     "execution_count": 179,
     "metadata": {},
     "output_type": "execute_result"
    }
   ],
   "source": [
    "rules_.head()"
   ]
  },
  {
   "cell_type": "code",
   "execution_count": 542,
   "metadata": {},
   "outputs": [],
   "source": [
    "rules_.to_csv('rules_support_flask.csv')"
   ]
  },
  {
   "cell_type": "code",
   "execution_count": 412,
   "metadata": {},
   "outputs": [
    {
     "data": {
      "text/html": [
       "<div>\n",
       "<style scoped>\n",
       "    .dataframe tbody tr th:only-of-type {\n",
       "        vertical-align: middle;\n",
       "    }\n",
       "\n",
       "    .dataframe tbody tr th {\n",
       "        vertical-align: top;\n",
       "    }\n",
       "\n",
       "    .dataframe thead th {\n",
       "        text-align: right;\n",
       "    }\n",
       "</style>\n",
       "<table border=\"1\" class=\"dataframe\">\n",
       "  <thead>\n",
       "    <tr style=\"text-align: right;\">\n",
       "      <th></th>\n",
       "      <th>lhs</th>\n",
       "      <th>rhs</th>\n",
       "      <th>support</th>\n",
       "      <th>confidence</th>\n",
       "      <th>lift</th>\n",
       "      <th>count</th>\n",
       "    </tr>\n",
       "  </thead>\n",
       "  <tbody>\n",
       "    <tr>\n",
       "      <th>9</th>\n",
       "      <td>viola:necklace</td>\n",
       "      <td>us jewelry house:necklace</td>\n",
       "      <td>0.025296</td>\n",
       "      <td>0.968421</td>\n",
       "      <td>1.907989</td>\n",
       "      <td>92</td>\n",
       "    </tr>\n",
       "    <tr>\n",
       "      <th>473</th>\n",
       "      <td>hush:necklace,romance:necklace</td>\n",
       "      <td>us jewelry house:necklace</td>\n",
       "      <td>0.023921</td>\n",
       "      <td>0.956044</td>\n",
       "      <td>1.883603</td>\n",
       "      <td>87</td>\n",
       "    </tr>\n",
       "    <tr>\n",
       "      <th>1561</th>\n",
       "      <td>andante:necklace,us jewelry house:bracelet,us ...</td>\n",
       "      <td>us jewelry house:necklace</td>\n",
       "      <td>0.023096</td>\n",
       "      <td>0.954545</td>\n",
       "      <td>1.880651</td>\n",
       "      <td>84</td>\n",
       "    </tr>\n",
       "    <tr>\n",
       "      <th>1536</th>\n",
       "      <td>pomina:necklace,us jewelry house:bracelet,us j...</td>\n",
       "      <td>us jewelry house:necklace</td>\n",
       "      <td>0.020071</td>\n",
       "      <td>0.948052</td>\n",
       "      <td>1.867857</td>\n",
       "      <td>73</td>\n",
       "    </tr>\n",
       "    <tr>\n",
       "      <th>5</th>\n",
       "      <td>image:necklace</td>\n",
       "      <td>us jewelry house:necklace</td>\n",
       "      <td>0.022271</td>\n",
       "      <td>0.941860</td>\n",
       "      <td>1.855659</td>\n",
       "      <td>81</td>\n",
       "    </tr>\n",
       "  </tbody>\n",
       "</table>\n",
       "</div>"
      ],
      "text/plain": [
       "                                                    lhs  \\\n",
       "9                                        viola:necklace   \n",
       "473                      hush:necklace,romance:necklace   \n",
       "1561  andante:necklace,us jewelry house:bracelet,us ...   \n",
       "1536  pomina:necklace,us jewelry house:bracelet,us j...   \n",
       "5                                        image:necklace   \n",
       "\n",
       "                            rhs   support  confidence      lift  count  \n",
       "9     us jewelry house:necklace  0.025296    0.968421  1.907989     92  \n",
       "473   us jewelry house:necklace  0.023921    0.956044  1.883603     87  \n",
       "1561  us jewelry house:necklace  0.023096    0.954545  1.880651     84  \n",
       "1536  us jewelry house:necklace  0.020071    0.948052  1.867857     73  \n",
       "5     us jewelry house:necklace  0.022271    0.941860  1.855659     81  "
      ]
     },
     "execution_count": 412,
     "metadata": {},
     "output_type": "execute_result"
    }
   ],
   "source": [
    "rulec_.head()"
   ]
  },
  {
   "cell_type": "code",
   "execution_count": 543,
   "metadata": {},
   "outputs": [],
   "source": [
    "rulec_.to_csv('rules_confidence_flask.csv')"
   ]
  },
  {
   "cell_type": "markdown",
   "metadata": {},
   "source": [
    "### create all item dictionary vendor:category : items"
   ]
  },
  {
   "cell_type": "code",
   "execution_count": 136,
   "metadata": {},
   "outputs": [
    {
     "name": "stderr",
     "output_type": "stream",
     "text": [
      "/Users/jialanzhu/anaconda3/lib/python3.6/site-packages/IPython/core/interactiveshell.py:2785: DtypeWarning: Columns (22) have mixed types. Specify dtype option on import or set low_memory=False.\n",
      "  interactivity=interactivity, compiler=compiler, result=result)\n"
     ]
    }
   ],
   "source": [
    "usjh_all=pd.read_csv(\"USJH_rules.csv\").drop(['Unnamed: 0','X','Unnamed..0','Unnamed..0.1'], axis=1)"
   ]
  },
  {
   "cell_type": "code",
   "execution_count": 138,
   "metadata": {},
   "outputs": [
    {
     "data": {
      "text/html": [
       "<div>\n",
       "<style scoped>\n",
       "    .dataframe tbody tr th:only-of-type {\n",
       "        vertical-align: middle;\n",
       "    }\n",
       "\n",
       "    .dataframe tbody tr th {\n",
       "        vertical-align: top;\n",
       "    }\n",
       "\n",
       "    .dataframe thead th {\n",
       "        text-align: right;\n",
       "    }\n",
       "</style>\n",
       "<table border=\"1\" class=\"dataframe\">\n",
       "  <thead>\n",
       "    <tr style=\"text-align: right;\">\n",
       "      <th></th>\n",
       "      <th>name</th>\n",
       "      <th>financial_status</th>\n",
       "      <th>paid_at</th>\n",
       "      <th>fulfillment_status</th>\n",
       "      <th>accepts_marketing</th>\n",
       "      <th>currency</th>\n",
       "      <th>subtotal</th>\n",
       "      <th>shipping</th>\n",
       "      <th>taxes</th>\n",
       "      <th>total</th>\n",
       "      <th>discount_code</th>\n",
       "      <th>discount_amount</th>\n",
       "      <th>shipping_method</th>\n",
       "      <th>created_at</th>\n",
       "      <th>lineitem_quantity</th>\n",
       "      <th>lineitem_name</th>\n",
       "      <th>lineitem_price</th>\n",
       "      <th>lineitem_compare_at_price</th>\n",
       "      <th>lineitem_sku</th>\n",
       "      <th>lineitem_fulfillment_status</th>\n",
       "      <th>shipping_street</th>\n",
       "      <th>shipping_address1</th>\n",
       "      <th>shipping_company</th>\n",
       "      <th>shipping_city</th>\n",
       "      <th>shipping_zip</th>\n",
       "      <th>shipping_province</th>\n",
       "      <th>shipping_country</th>\n",
       "      <th>notes</th>\n",
       "      <th>cancelled</th>\n",
       "      <th>payment_method</th>\n",
       "      <th>refunded_amount</th>\n",
       "      <th>vendor</th>\n",
       "      <th>risk_level</th>\n",
       "      <th>source</th>\n",
       "      <th>color</th>\n",
       "      <th>category</th>\n",
       "      <th>vendor_category</th>\n",
       "    </tr>\n",
       "  </thead>\n",
       "  <tbody>\n",
       "    <tr>\n",
       "      <th>0</th>\n",
       "      <td>#4746</td>\n",
       "      <td>paid</td>\n",
       "      <td>2018-07-16 12:31:00</td>\n",
       "      <td>unfulfilled</td>\n",
       "      <td>yes</td>\n",
       "      <td>usd</td>\n",
       "      <td>100.5</td>\n",
       "      <td>13.64</td>\n",
       "      <td>0.0</td>\n",
       "      <td>114.14</td>\n",
       "      <td>nodiscount</td>\n",
       "      <td>0.0</td>\n",
       "      <td>fedex ground</td>\n",
       "      <td>2018-07-16 12:31:00</td>\n",
       "      <td>1</td>\n",
       "      <td>turquoise crystal rhinestone ring - gdtq</td>\n",
       "      <td>3.50</td>\n",
       "      <td>3.50</td>\n",
       "      <td>16646</td>\n",
       "      <td>pending</td>\n",
       "      <td>475 calle retama</td>\n",
       "      <td>475 calle retama</td>\n",
       "      <td>t-trendz</td>\n",
       "      <td>brownsville</td>\n",
       "      <td>78520</td>\n",
       "      <td>tx</td>\n",
       "      <td>us</td>\n",
       "      <td>nonotes</td>\n",
       "      <td>1</td>\n",
       "      <td>shopify payments</td>\n",
       "      <td>0.0</td>\n",
       "      <td>us jewelry house</td>\n",
       "      <td>low</td>\n",
       "      <td>web</td>\n",
       "      <td>gdtq</td>\n",
       "      <td>ring</td>\n",
       "      <td>us jewelry house:ring</td>\n",
       "    </tr>\n",
       "    <tr>\n",
       "      <th>1</th>\n",
       "      <td>#4746</td>\n",
       "      <td>paid</td>\n",
       "      <td>2018-07-16 12:31:00</td>\n",
       "      <td>unfulfilled</td>\n",
       "      <td>yes</td>\n",
       "      <td>usd</td>\n",
       "      <td>100.5</td>\n",
       "      <td>13.64</td>\n",
       "      <td>0.0</td>\n",
       "      <td>114.14</td>\n",
       "      <td>nodiscount</td>\n",
       "      <td>0.0</td>\n",
       "      <td>fedex ground</td>\n",
       "      <td>2018-07-16 12:31:00</td>\n",
       "      <td>1</td>\n",
       "      <td>turquoise crystal rhinestone ring - gdtq</td>\n",
       "      <td>3.25</td>\n",
       "      <td>3.25</td>\n",
       "      <td>16649</td>\n",
       "      <td>pending</td>\n",
       "      <td>475 calle retama</td>\n",
       "      <td>475 calle retama</td>\n",
       "      <td>t-trendz</td>\n",
       "      <td>brownsville</td>\n",
       "      <td>78520</td>\n",
       "      <td>tx</td>\n",
       "      <td>us</td>\n",
       "      <td>nonotes</td>\n",
       "      <td>1</td>\n",
       "      <td>shopify payments</td>\n",
       "      <td>0.0</td>\n",
       "      <td>us jewelry house</td>\n",
       "      <td>low</td>\n",
       "      <td>web</td>\n",
       "      <td>gdtq</td>\n",
       "      <td>ring</td>\n",
       "      <td>us jewelry house:ring</td>\n",
       "    </tr>\n",
       "    <tr>\n",
       "      <th>2</th>\n",
       "      <td>#4746</td>\n",
       "      <td>paid</td>\n",
       "      <td>2018-07-16 12:31:00</td>\n",
       "      <td>unfulfilled</td>\n",
       "      <td>yes</td>\n",
       "      <td>usd</td>\n",
       "      <td>100.5</td>\n",
       "      <td>13.64</td>\n",
       "      <td>0.0</td>\n",
       "      <td>114.14</td>\n",
       "      <td>nodiscount</td>\n",
       "      <td>0.0</td>\n",
       "      <td>fedex ground</td>\n",
       "      <td>2018-07-16 12:31:00</td>\n",
       "      <td>1</td>\n",
       "      <td>tri tone cubic zirconia paved simple band ring...</td>\n",
       "      <td>10.50</td>\n",
       "      <td>10.50</td>\n",
       "      <td>27281</td>\n",
       "      <td>pending</td>\n",
       "      <td>475 calle retama</td>\n",
       "      <td>475 calle retama</td>\n",
       "      <td>t-trendz</td>\n",
       "      <td>brownsville</td>\n",
       "      <td>78520</td>\n",
       "      <td>tx</td>\n",
       "      <td>us</td>\n",
       "      <td>nonotes</td>\n",
       "      <td>1</td>\n",
       "      <td>shopify payments</td>\n",
       "      <td>0.0</td>\n",
       "      <td>impression</td>\n",
       "      <td>low</td>\n",
       "      <td>web</td>\n",
       "      <td>size 8</td>\n",
       "      <td>ring</td>\n",
       "      <td>impression:ring</td>\n",
       "    </tr>\n",
       "    <tr>\n",
       "      <th>3</th>\n",
       "      <td>#4746</td>\n",
       "      <td>paid</td>\n",
       "      <td>2018-07-16 12:31:00</td>\n",
       "      <td>unfulfilled</td>\n",
       "      <td>yes</td>\n",
       "      <td>usd</td>\n",
       "      <td>100.5</td>\n",
       "      <td>13.64</td>\n",
       "      <td>0.0</td>\n",
       "      <td>114.14</td>\n",
       "      <td>nodiscount</td>\n",
       "      <td>0.0</td>\n",
       "      <td>fedex ground</td>\n",
       "      <td>2018-07-16 12:31:00</td>\n",
       "      <td>1</td>\n",
       "      <td>geometric tortoise link long necklace - brown</td>\n",
       "      <td>9.75</td>\n",
       "      <td>9.75</td>\n",
       "      <td>27976</td>\n",
       "      <td>pending</td>\n",
       "      <td>475 calle retama</td>\n",
       "      <td>475 calle retama</td>\n",
       "      <td>t-trendz</td>\n",
       "      <td>brownsville</td>\n",
       "      <td>78520</td>\n",
       "      <td>tx</td>\n",
       "      <td>us</td>\n",
       "      <td>nonotes</td>\n",
       "      <td>1</td>\n",
       "      <td>shopify payments</td>\n",
       "      <td>0.0</td>\n",
       "      <td>ella</td>\n",
       "      <td>low</td>\n",
       "      <td>web</td>\n",
       "      <td>brown</td>\n",
       "      <td>necklace</td>\n",
       "      <td>ella:necklace</td>\n",
       "    </tr>\n",
       "    <tr>\n",
       "      <th>4</th>\n",
       "      <td>#4746</td>\n",
       "      <td>paid</td>\n",
       "      <td>2018-07-16 12:31:00</td>\n",
       "      <td>unfulfilled</td>\n",
       "      <td>yes</td>\n",
       "      <td>usd</td>\n",
       "      <td>100.5</td>\n",
       "      <td>13.64</td>\n",
       "      <td>0.0</td>\n",
       "      <td>114.14</td>\n",
       "      <td>nodiscount</td>\n",
       "      <td>0.0</td>\n",
       "      <td>fedex ground</td>\n",
       "      <td>2018-07-16 12:31:00</td>\n",
       "      <td>1</td>\n",
       "      <td>acetate skinny bangle bracelet with front clos...</td>\n",
       "      <td>5.25</td>\n",
       "      <td>5.25</td>\n",
       "      <td>28943</td>\n",
       "      <td>pending</td>\n",
       "      <td>475 calle retama</td>\n",
       "      <td>475 calle retama</td>\n",
       "      <td>t-trendz</td>\n",
       "      <td>brownsville</td>\n",
       "      <td>78520</td>\n",
       "      <td>tx</td>\n",
       "      <td>us</td>\n",
       "      <td>nonotes</td>\n",
       "      <td>1</td>\n",
       "      <td>shopify payments</td>\n",
       "      <td>0.0</td>\n",
       "      <td>stylist</td>\n",
       "      <td>low</td>\n",
       "      <td>web</td>\n",
       "      <td>white/brown</td>\n",
       "      <td>bracelet</td>\n",
       "      <td>stylist:bracelet</td>\n",
       "    </tr>\n",
       "  </tbody>\n",
       "</table>\n",
       "</div>"
      ],
      "text/plain": [
       "    name financial_status              paid_at fulfillment_status  \\\n",
       "0  #4746             paid  2018-07-16 12:31:00        unfulfilled   \n",
       "1  #4746             paid  2018-07-16 12:31:00        unfulfilled   \n",
       "2  #4746             paid  2018-07-16 12:31:00        unfulfilled   \n",
       "3  #4746             paid  2018-07-16 12:31:00        unfulfilled   \n",
       "4  #4746             paid  2018-07-16 12:31:00        unfulfilled   \n",
       "\n",
       "  accepts_marketing currency  subtotal  shipping  taxes   total discount_code  \\\n",
       "0               yes      usd     100.5     13.64    0.0  114.14    nodiscount   \n",
       "1               yes      usd     100.5     13.64    0.0  114.14    nodiscount   \n",
       "2               yes      usd     100.5     13.64    0.0  114.14    nodiscount   \n",
       "3               yes      usd     100.5     13.64    0.0  114.14    nodiscount   \n",
       "4               yes      usd     100.5     13.64    0.0  114.14    nodiscount   \n",
       "\n",
       "   discount_amount shipping_method           created_at  lineitem_quantity  \\\n",
       "0              0.0    fedex ground  2018-07-16 12:31:00                  1   \n",
       "1              0.0    fedex ground  2018-07-16 12:31:00                  1   \n",
       "2              0.0    fedex ground  2018-07-16 12:31:00                  1   \n",
       "3              0.0    fedex ground  2018-07-16 12:31:00                  1   \n",
       "4              0.0    fedex ground  2018-07-16 12:31:00                  1   \n",
       "\n",
       "                                       lineitem_name  lineitem_price  \\\n",
       "0           turquoise crystal rhinestone ring - gdtq            3.50   \n",
       "1           turquoise crystal rhinestone ring - gdtq            3.25   \n",
       "2  tri tone cubic zirconia paved simple band ring...           10.50   \n",
       "3      geometric tortoise link long necklace - brown            9.75   \n",
       "4  acetate skinny bangle bracelet with front clos...            5.25   \n",
       "\n",
       "   lineitem_compare_at_price lineitem_sku lineitem_fulfillment_status  \\\n",
       "0                       3.50        16646                     pending   \n",
       "1                       3.25        16649                     pending   \n",
       "2                      10.50        27281                     pending   \n",
       "3                       9.75        27976                     pending   \n",
       "4                       5.25        28943                     pending   \n",
       "\n",
       "    shipping_street shipping_address1 shipping_company shipping_city  \\\n",
       "0  475 calle retama  475 calle retama         t-trendz   brownsville   \n",
       "1  475 calle retama  475 calle retama         t-trendz   brownsville   \n",
       "2  475 calle retama  475 calle retama         t-trendz   brownsville   \n",
       "3  475 calle retama  475 calle retama         t-trendz   brownsville   \n",
       "4  475 calle retama  475 calle retama         t-trendz   brownsville   \n",
       "\n",
       "  shipping_zip shipping_province shipping_country    notes  cancelled  \\\n",
       "0        78520                tx               us  nonotes          1   \n",
       "1        78520                tx               us  nonotes          1   \n",
       "2        78520                tx               us  nonotes          1   \n",
       "3        78520                tx               us  nonotes          1   \n",
       "4        78520                tx               us  nonotes          1   \n",
       "\n",
       "     payment_method  refunded_amount            vendor risk_level source  \\\n",
       "0  shopify payments              0.0  us jewelry house        low    web   \n",
       "1  shopify payments              0.0  us jewelry house        low    web   \n",
       "2  shopify payments              0.0        impression        low    web   \n",
       "3  shopify payments              0.0              ella        low    web   \n",
       "4  shopify payments              0.0           stylist        low    web   \n",
       "\n",
       "          color  category        vendor_category  \n",
       "0          gdtq      ring  us jewelry house:ring  \n",
       "1          gdtq      ring  us jewelry house:ring  \n",
       "2        size 8      ring        impression:ring  \n",
       "3         brown  necklace          ella:necklace  \n",
       "4   white/brown  bracelet       stylist:bracelet  "
      ]
     },
     "execution_count": 138,
     "metadata": {},
     "output_type": "execute_result"
    }
   ],
   "source": [
    "usjh_all.head()"
   ]
  },
  {
   "cell_type": "code",
   "execution_count": 145,
   "metadata": {},
   "outputs": [],
   "source": [
    "x=usjh_all.groupby('vendor_category')['lineitem_name']\n",
    "usjh_all_item={}\n",
    "\n",
    "for key, value in x:\n",
    "    usjh_all_item[key]=set(value)"
   ]
  },
  {
   "cell_type": "code",
   "execution_count": 152,
   "metadata": {},
   "outputs": [
    {
     "data": {
      "text/plain": [
       "326"
      ]
     },
     "execution_count": 152,
     "metadata": {},
     "output_type": "execute_result"
    }
   ],
   "source": [
    "len(usjh_all_item.keys())"
   ]
  },
  {
   "cell_type": "code",
   "execution_count": null,
   "metadata": {},
   "outputs": [],
   "source": []
  },
  {
   "cell_type": "markdown",
   "metadata": {},
   "source": [
    "### calculate frequency of each item"
   ]
  },
  {
   "cell_type": "code",
   "execution_count": 234,
   "metadata": {},
   "outputs": [
    {
     "data": {
      "text/plain": [
       "26218"
      ]
     },
     "execution_count": 234,
     "metadata": {},
     "output_type": "execute_result"
    }
   ],
   "source": [
    "#create a list containing all unique items\n",
    "all_items=usjh_all['lineitem_name']\n",
    "all_items=set(all_items)\n",
    "len(all_items)\n"
   ]
  },
  {
   "cell_type": "code",
   "execution_count": 228,
   "metadata": {},
   "outputs": [],
   "source": [
    "#calculate freqency\n",
    "item_fre={'lineitem_name':[], 'frequency':[]}\n",
    "for item in all_items:\n",
    "    item_fre['lineitem_name'].append(item)\n",
    "    item_fre['frequency'].append(len(usjh_all[usjh_all['lineitem_name']==item].name.unique())/len(usjh.name.unique()))"
   ]
  },
  {
   "cell_type": "code",
   "execution_count": 230,
   "metadata": {},
   "outputs": [],
   "source": [
    "item_fre=pd.DataFrame(item_fre)\n",
    "item_fre=item_fre.sort_values('frequency')"
   ]
  },
  {
   "cell_type": "code",
   "execution_count": null,
   "metadata": {},
   "outputs": [],
   "source": []
  },
  {
   "cell_type": "code",
   "execution_count": 232,
   "metadata": {},
   "outputs": [],
   "source": [
    "#merge item_fre with usjh_all\n",
    "usjh_m=pd.merge(usjh_all, item_fre, on='lineitem_name', how='left')"
   ]
  },
  {
   "cell_type": "code",
   "execution_count": 233,
   "metadata": {},
   "outputs": [
    {
     "data": {
      "text/plain": [
       "0"
      ]
     },
     "execution_count": 233,
     "metadata": {},
     "output_type": "execute_result"
    }
   ],
   "source": [
    "#check missing values\n",
    "usjh_m['frequency'].isnull().sum()"
   ]
  },
  {
   "cell_type": "code",
   "execution_count": 235,
   "metadata": {},
   "outputs": [
    {
     "data": {
      "text/plain": [
       "Index(['name', 'financial_status', 'paid_at', 'fulfillment_status',\n",
       "       'accepts_marketing', 'currency', 'subtotal', 'shipping', 'taxes',\n",
       "       'total', 'discount_code', 'discount_amount', 'shipping_method',\n",
       "       'created_at', 'lineitem_quantity', 'lineitem_name', 'lineitem_price',\n",
       "       'lineitem_compare_at_price', 'lineitem_sku',\n",
       "       'lineitem_fulfillment_status', 'shipping_street', 'shipping_address1',\n",
       "       'shipping_company', 'shipping_city', 'shipping_zip',\n",
       "       'shipping_province', 'shipping_country', 'notes', 'cancelled',\n",
       "       'payment_method', 'refunded_amount', 'vendor', 'risk_level', 'source',\n",
       "       'color', 'category', 'vendor_category', 'frequency'],\n",
       "      dtype='object')"
      ]
     },
     "execution_count": 235,
     "metadata": {},
     "output_type": "execute_result"
    }
   ],
   "source": [
    "usjh_m.columns"
   ]
  },
  {
   "cell_type": "code",
   "execution_count": 239,
   "metadata": {},
   "outputs": [
    {
     "data": {
      "text/plain": [
       "(83509, 8)"
      ]
     },
     "execution_count": 239,
     "metadata": {},
     "output_type": "execute_result"
    }
   ],
   "source": [
    "#create final association rule data frame for Flask\n",
    "usjh_AR=usjh_m[['name','lineitem_name','lineitem_price','shipping_company','vendor','category', 'vendor_category', 'frequency']]\n",
    "usjh_AR.shape"
   ]
  },
  {
   "cell_type": "code",
   "execution_count": 541,
   "metadata": {},
   "outputs": [],
   "source": [
    "usjh_AR.to_csv('usjh_AR_itemlist_flask.csv')"
   ]
  },
  {
   "cell_type": "markdown",
   "metadata": {},
   "source": [
    "### how to perform recommandation\n",
    "1. create an order list\n",
    "2. for each item in the list, create an list containing its associated items (the highest support)\n",
    "3. check if there is sale (discount) among these associated items\n",
    "   a) if yes, recommand sale items\n",
    "   b) if no, return the highest support item"
   ]
  },
  {
   "cell_type": "code",
   "execution_count": 566,
   "metadata": {},
   "outputs": [
    {
     "data": {
      "text/html": [
       "<div>\n",
       "<style scoped>\n",
       "    .dataframe tbody tr th:only-of-type {\n",
       "        vertical-align: middle;\n",
       "    }\n",
       "\n",
       "    .dataframe tbody tr th {\n",
       "        vertical-align: top;\n",
       "    }\n",
       "\n",
       "    .dataframe thead th {\n",
       "        text-align: right;\n",
       "    }\n",
       "</style>\n",
       "<table border=\"1\" class=\"dataframe\">\n",
       "  <thead>\n",
       "    <tr style=\"text-align: right;\">\n",
       "      <th></th>\n",
       "      <th>lineitem_name</th>\n",
       "      <th>vendor_category</th>\n",
       "      <th>frequency</th>\n",
       "    </tr>\n",
       "  </thead>\n",
       "  <tbody>\n",
       "    <tr>\n",
       "      <th>55394</th>\n",
       "      <td>pearl mini studs earrings - gold</td>\n",
       "      <td>fresh:earring</td>\n",
       "      <td>0.008798</td>\n",
       "    </tr>\n",
       "    <tr>\n",
       "      <th>39364</th>\n",
       "      <td>cubic zirconia evil eye bracelet - rgcl</td>\n",
       "      <td>us jewelry house:bracelet</td>\n",
       "      <td>0.004124</td>\n",
       "    </tr>\n",
       "    <tr>\n",
       "      <th>3702</th>\n",
       "      <td>braided leather magnetic bracelet - pink</td>\n",
       "      <td>blue accessories:bracelet</td>\n",
       "      <td>0.001375</td>\n",
       "    </tr>\n",
       "    <tr>\n",
       "      <th>5838</th>\n",
       "      <td>cubic zirconia key pendant brass necklace - rh...</td>\n",
       "      <td>lamant:necklace</td>\n",
       "      <td>0.001100</td>\n",
       "    </tr>\n",
       "    <tr>\n",
       "      <th>36113</th>\n",
       "      <td>triple layered abalone charm necklace - silver</td>\n",
       "      <td>fashion beyond:necklace</td>\n",
       "      <td>0.000825</td>\n",
       "    </tr>\n",
       "    <tr>\n",
       "      <th>71778</th>\n",
       "      <td>glass stone pendant metal choker - gold</td>\n",
       "      <td>us jewelry house:necklace</td>\n",
       "      <td>0.000550</td>\n",
       "    </tr>\n",
       "    <tr>\n",
       "      <th>18260</th>\n",
       "      <td>semi precious stone simple chain necklace - la...</td>\n",
       "      <td>dorothy:necklace</td>\n",
       "      <td>0.000550</td>\n",
       "    </tr>\n",
       "    <tr>\n",
       "      <th>51878</th>\n",
       "      <td>circle with 3 bar pendant necklace - gold</td>\n",
       "      <td>viola:necklace</td>\n",
       "      <td>0.000550</td>\n",
       "    </tr>\n",
       "    <tr>\n",
       "      <th>61716</th>\n",
       "      <td>metal studs pompom esther hat - white</td>\n",
       "      <td>us jewelry house:earring</td>\n",
       "      <td>0.000550</td>\n",
       "    </tr>\n",
       "    <tr>\n",
       "      <th>20729</th>\n",
       "      <td>rectangle mini studs - black</td>\n",
       "      <td>jm:earring</td>\n",
       "      <td>0.000550</td>\n",
       "    </tr>\n",
       "  </tbody>\n",
       "</table>\n",
       "</div>"
      ],
      "text/plain": [
       "                                           lineitem_name  \\\n",
       "55394                   pearl mini studs earrings - gold   \n",
       "39364            cubic zirconia evil eye bracelet - rgcl   \n",
       "3702            braided leather magnetic bracelet - pink   \n",
       "5838   cubic zirconia key pendant brass necklace - rh...   \n",
       "36113     triple layered abalone charm necklace - silver   \n",
       "71778            glass stone pendant metal choker - gold   \n",
       "18260  semi precious stone simple chain necklace - la...   \n",
       "51878          circle with 3 bar pendant necklace - gold   \n",
       "61716              metal studs pompom esther hat - white   \n",
       "20729                       rectangle mini studs - black   \n",
       "\n",
       "                 vendor_category  frequency  \n",
       "55394              fresh:earring   0.008798  \n",
       "39364  us jewelry house:bracelet   0.004124  \n",
       "3702   blue accessories:bracelet   0.001375  \n",
       "5838             lamant:necklace   0.001100  \n",
       "36113    fashion beyond:necklace   0.000825  \n",
       "71778  us jewelry house:necklace   0.000550  \n",
       "18260           dorothy:necklace   0.000550  \n",
       "51878             viola:necklace   0.000550  \n",
       "61716   us jewelry house:earring   0.000550  \n",
       "20729                 jm:earring   0.000550  "
      ]
     },
     "execution_count": 566,
     "metadata": {},
     "output_type": "execute_result"
    }
   ],
   "source": [
    "#create sale list, randomly select 100 items as sale item\n",
    "sale=usjh_AR[['lineitem_name','vendor_category','frequency']].sample(10).sort_values('frequency',ascending=False)\n",
    "sale"
   ]
  },
  {
   "cell_type": "code",
   "execution_count": 567,
   "metadata": {},
   "outputs": [],
   "source": [
    "#create sale (vendor:category) basing on sale items\n",
    "sale_vc=[]\n",
    "for item in sale['lineitem_name']:\n",
    "    sale_vc.append(usjh_AR[usjh_AR['lineitem_name']==item].vendor_category.iloc[0])\n",
    "    \n",
    "sale_vc=set(sale_vc)"
   ]
  },
  {
   "cell_type": "code",
   "execution_count": 568,
   "metadata": {},
   "outputs": [
    {
     "data": {
      "text/plain": [
       "{'blue accessories:bracelet',\n",
       " 'dorothy:necklace',\n",
       " 'fashion beyond:necklace',\n",
       " 'fresh:earring',\n",
       " 'jm:earring',\n",
       " 'lamant:necklace',\n",
       " 'us jewelry house:bracelet',\n",
       " 'us jewelry house:earring',\n",
       " 'us jewelry house:necklace',\n",
       " 'viola:necklace'}"
      ]
     },
     "execution_count": 568,
     "metadata": {},
     "output_type": "execute_result"
    }
   ],
   "source": [
    "sale_vc"
   ]
  },
  {
   "cell_type": "code",
   "execution_count": 569,
   "metadata": {},
   "outputs": [],
   "source": [
    "#create a dummy order list\n",
    "order=usjh_AR[['lineitem_name']].sample(1)"
   ]
  },
  {
   "cell_type": "code",
   "execution_count": 570,
   "metadata": {},
   "outputs": [],
   "source": [
    "#create order lhs basing on order items\n",
    "order_vc=[]\n",
    "for item in order['lineitem_name']:\n",
    "    order_vc.append(usjh_AR[usjh_AR['lineitem_name']==item].vendor_category.iloc[0])\n",
    "    \n",
    "order_vc=set(order_vc)"
   ]
  },
  {
   "cell_type": "code",
   "execution_count": 571,
   "metadata": {},
   "outputs": [
    {
     "data": {
      "text/plain": [
       "{'us jewelry house:bracelet'}"
      ]
     },
     "execution_count": 571,
     "metadata": {},
     "output_type": "execute_result"
    }
   ],
   "source": [
    "order_vc"
   ]
  },
  {
   "cell_type": "markdown",
   "metadata": {},
   "source": [
    "### conduct two recommendatins\n",
    "- 1. basing on the highest support\n",
    "- 2. basing on the highest confidence"
   ]
  },
  {
   "cell_type": "markdown",
   "metadata": {},
   "source": [
    "#### recommendation basing on the highest support"
   ]
  },
  {
   "cell_type": "code",
   "execution_count": 572,
   "metadata": {},
   "outputs": [],
   "source": [
    "#look up associated item rhs basing on the highst support\n",
    "#use the rules_ which is sorted by support\n",
    "assoc_rules={'rhs':[], 'support':[]}\n",
    "for item in order_vc:\n",
    "    if len(rules_[rules_['lhs']==item].rhs)>0: #some items have no rule\n",
    "        \n",
    "        assoc_rules['rhs'].append(rules_[rules_['lhs']==item].rhs.iloc[0])\n",
    "        assoc_rules['support'].append(rules_[rules_['lhs']==item].support.iloc[0])\n",
    "\n",
    "assoc_rules=pd.DataFrame(assoc_rules)"
   ]
  },
  {
   "cell_type": "code",
   "execution_count": 573,
   "metadata": {},
   "outputs": [
    {
     "data": {
      "text/html": [
       "<div>\n",
       "<style scoped>\n",
       "    .dataframe tbody tr th:only-of-type {\n",
       "        vertical-align: middle;\n",
       "    }\n",
       "\n",
       "    .dataframe tbody tr th {\n",
       "        vertical-align: top;\n",
       "    }\n",
       "\n",
       "    .dataframe thead th {\n",
       "        text-align: right;\n",
       "    }\n",
       "</style>\n",
       "<table border=\"1\" class=\"dataframe\">\n",
       "  <thead>\n",
       "    <tr style=\"text-align: right;\">\n",
       "      <th></th>\n",
       "      <th>rhs</th>\n",
       "      <th>support</th>\n",
       "    </tr>\n",
       "  </thead>\n",
       "  <tbody>\n",
       "    <tr>\n",
       "      <th>0</th>\n",
       "      <td>us jewelry house:necklace</td>\n",
       "      <td>0.204014</td>\n",
       "    </tr>\n",
       "  </tbody>\n",
       "</table>\n",
       "</div>"
      ],
      "text/plain": [
       "                         rhs   support\n",
       "0  us jewelry house:necklace  0.204014"
      ]
     },
     "execution_count": 573,
     "metadata": {},
     "output_type": "execute_result"
    }
   ],
   "source": [
    "rhs=assoc_rules.sort_values('support', ascending=False)\n",
    "rhs"
   ]
  },
  {
   "cell_type": "code",
   "execution_count": 574,
   "metadata": {},
   "outputs": [],
   "source": [
    "#check if there is on sale item in rhs\n",
    "recommend=''\n",
    "r_support=0\n",
    "for item in rhs['rhs']:\n",
    "    #if there are items on sale in rhs, return the one with the greatest support\n",
    "    if item in sale_vc:\n",
    "        if rhs[rhs['rhs']==item].support.iloc[0] > r_support:\n",
    "            recommend=item\n",
    "            r_support=rhs[rhs['rhs']==item].support.iloc[0]"
   ]
  },
  {
   "cell_type": "code",
   "execution_count": 575,
   "metadata": {},
   "outputs": [
    {
     "name": "stdout",
     "output_type": "stream",
     "text": [
      "us jewelry house:necklace\n",
      "0.204014297497938\n"
     ]
    }
   ],
   "source": [
    "print(recommend)\n",
    "print(r_support)"
   ]
  },
  {
   "cell_type": "code",
   "execution_count": 576,
   "metadata": {},
   "outputs": [],
   "source": [
    "#if recommend is not empty, which means this is associated on item on sale, recommand the top 3\n",
    "if recommend != '':\n",
    "    rec_items=sale[sale['vendor_category']==recommend].sort_values('frequency',ascending=False)\n",
    "    #if len(rec_items['lineitem_name'].unique())>3:\n",
    "        #rec_items=rec_items['lineitem_name'].unique()[:3]\n",
    "    #else:\n",
    "    rec_items=rec_items['lineitem_name'].unique()\n",
    "#if there is no on sale item, the recommend will be an empty string, \n",
    "#then just simply choose the item with the highest support in rhs\n",
    "else :\n",
    "    recommend=rhs['rhs'].iloc[0]\n",
    "#now we have the final recommend, pick the specific items to make recommendation\n",
    "#find the lineitem name in recommend with top 3 frequency\n",
    "    \n",
    "    rec_items=usjh_AR[usjh_AR['vendor_category']==recommend].sort_values('frequency',ascending=False).lineitem_name\n",
    "#there are a lot of duplicated items, get the unique top 3\n",
    "    rec_items=rec_items.unique()[:3]\n",
    "\n",
    "    "
   ]
  },
  {
   "cell_type": "code",
   "execution_count": null,
   "metadata": {},
   "outputs": [],
   "source": []
  },
  {
   "cell_type": "code",
   "execution_count": 577,
   "metadata": {},
   "outputs": [],
   "source": [
    "rec_items=rec_items.tolist()"
   ]
  },
  {
   "cell_type": "code",
   "execution_count": 578,
   "metadata": {},
   "outputs": [],
   "source": [
    "#we want to alway recommend 3 items\n",
    "x=usjh_AR[usjh_AR['vendor_category']==rhs.rhs.iloc[0]].sort_values('frequency',ascending=False).lineitem_name\n",
    "x=x.unique()\n",
    "\n",
    "dif=3-len(rec_items)\n",
    "dif\n",
    "if dif==1:\n",
    "    rec_items.append(x[0])\n",
    "elif dif==2:\n",
    "    rec_items.append(x[0])\n",
    "    rec_items.append(x[1])\n",
    "else:\n",
    "    rec_items=rec_items[:3]"
   ]
  },
  {
   "cell_type": "code",
   "execution_count": 579,
   "metadata": {},
   "outputs": [
    {
     "data": {
      "text/plain": [
       "['glass stone pendant metal choker - gold',\n",
       " 'lace choker',\n",
       " 'colorful pompom and thread tassel statement necklace']"
      ]
     },
     "execution_count": 579,
     "metadata": {},
     "output_type": "execute_result"
    }
   ],
   "source": [
    "rec_items"
   ]
  },
  {
   "cell_type": "markdown",
   "metadata": {},
   "source": [
    "#### recommendation basing on the highest confidence"
   ]
  },
  {
   "cell_type": "code",
   "execution_count": 580,
   "metadata": {},
   "outputs": [],
   "source": [
    "#look up associated item rhs basing on the highst confidence\n",
    "#use the rules_ which is sorted by confidence\n",
    "assoc_rulec={'rhs':[], 'confidence':[]}\n",
    "for item in order_vc:\n",
    "    if len(rulec_[rulec_['lhs']==item].rhs)>0: #some items have no rule\n",
    "        \n",
    "        assoc_rulec['rhs'].append(rulec_[rulec_['lhs']==item].rhs.iloc[0])\n",
    "        assoc_rulec['confidence'].append(rulec_[rulec_['lhs']==item].confidence.iloc[0])\n",
    "\n",
    "assoc_rulec=pd.DataFrame(assoc_rulec)"
   ]
  },
  {
   "cell_type": "code",
   "execution_count": 581,
   "metadata": {},
   "outputs": [
    {
     "data": {
      "text/html": [
       "<div>\n",
       "<style scoped>\n",
       "    .dataframe tbody tr th:only-of-type {\n",
       "        vertical-align: middle;\n",
       "    }\n",
       "\n",
       "    .dataframe tbody tr th {\n",
       "        vertical-align: top;\n",
       "    }\n",
       "\n",
       "    .dataframe thead th {\n",
       "        text-align: right;\n",
       "    }\n",
       "</style>\n",
       "<table border=\"1\" class=\"dataframe\">\n",
       "  <thead>\n",
       "    <tr style=\"text-align: right;\">\n",
       "      <th></th>\n",
       "      <th>rhs</th>\n",
       "      <th>confidence</th>\n",
       "    </tr>\n",
       "  </thead>\n",
       "  <tbody>\n",
       "    <tr>\n",
       "      <th>0</th>\n",
       "      <td>us jewelry house:necklace</td>\n",
       "      <td>0.740519</td>\n",
       "    </tr>\n",
       "  </tbody>\n",
       "</table>\n",
       "</div>"
      ],
      "text/plain": [
       "                         rhs  confidence\n",
       "0  us jewelry house:necklace    0.740519"
      ]
     },
     "execution_count": 581,
     "metadata": {},
     "output_type": "execute_result"
    }
   ],
   "source": [
    "rhs=assoc_rulec.sort_values('confidence', ascending=False)\n",
    "rhs"
   ]
  },
  {
   "cell_type": "code",
   "execution_count": 582,
   "metadata": {},
   "outputs": [],
   "source": [
    "#check if there is on sale item in rhs\n",
    "recommend_=''\n",
    "r_confidence=0\n",
    "for item in rhs['rhs']:\n",
    "    #if there are items on sale in rhs, return the one with the greatest confidence\n",
    "    if item in sale_vc:\n",
    "        if rhs[rhs['rhs']==item].confidence.iloc[0] > r_confidence:\n",
    "            recommend_=item\n",
    "            r_confidence=rhs[rhs['rhs']==item].confidence.iloc[0]"
   ]
  },
  {
   "cell_type": "code",
   "execution_count": 583,
   "metadata": {},
   "outputs": [
    {
     "name": "stdout",
     "output_type": "stream",
     "text": [
      "us jewelry house:necklace\n",
      "0.740518962075848\n"
     ]
    }
   ],
   "source": [
    "print(recommend_)\n",
    "print(r_confidence)"
   ]
  },
  {
   "cell_type": "code",
   "execution_count": 584,
   "metadata": {},
   "outputs": [],
   "source": [
    "#if recommend_ is not empty, which means this is associated on item on sale, recommand the top 3 associated items in the sale list\n",
    "if recommend_ != '':\n",
    "    rec_items_=sale[sale['vendor_category']==recommend_].sort_values('frequency',ascending=False)\n",
    "    if len(rec_items_['lineitem_name'].unique())>3:\n",
    "        rec_items_=rec_items_['lineitem_name'].unique()[:3]\n",
    "    else:\n",
    "        rec_items_=rec_items_['lineitem_name'].unique()\n",
    "#if there is no on sale item, the recommend_ will be an empty string, \n",
    "#then just simply choose the item with the highest confidence in rhs\n",
    "else :\n",
    "    recommend_=rhs['rhs'].iloc[0]\n",
    "#now we have the final recommend, pick the specific items to make recommendation\n",
    "#find the lineitem name in recommend with top 3 frequency\n",
    "    rec_items_=usjh_AR[usjh_AR['vendor_category']==recommend_].sort_values('frequency',ascending=False).lineitem_name\n",
    "#there are a lot of duplicated items, get the unique top 3\n",
    "    rec_items_=rec_items_.unique()[:3]"
   ]
  },
  {
   "cell_type": "code",
   "execution_count": 585,
   "metadata": {},
   "outputs": [],
   "source": [
    "rec_items_=rec_items_.tolist()"
   ]
  },
  {
   "cell_type": "code",
   "execution_count": 586,
   "metadata": {},
   "outputs": [],
   "source": [
    "#we want to alway recommend 3 items\n",
    "x=usjh_AR[usjh_AR['vendor_category']==rhs.rhs.iloc[0]].sort_values('frequency',ascending=False).lineitem_name\n",
    "x=x.unique()\n",
    "\n",
    "dif=3-len(rec_items_)\n",
    "dif\n",
    "if dif==1:\n",
    "    rec_items_.append(x[0])\n",
    "elif dif==2:\n",
    "    rec_items_.append(x[0])\n",
    "    rec_items_.append(x[1])\n",
    "else:\n",
    "    rec_items_=rec_items_[:3]\n",
    "    "
   ]
  },
  {
   "cell_type": "code",
   "execution_count": 587,
   "metadata": {},
   "outputs": [
    {
     "data": {
      "text/plain": [
       "['glass stone pendant metal choker - gold',\n",
       " 'lace choker',\n",
       " 'colorful pompom and thread tassel statement necklace']"
      ]
     },
     "execution_count": 587,
     "metadata": {},
     "output_type": "execute_result"
    }
   ],
   "source": [
    "rec_items_"
   ]
  },
  {
   "cell_type": "code",
   "execution_count": 588,
   "metadata": {},
   "outputs": [],
   "source": [
    "recommendation=set(rec_items+rec_items_)"
   ]
  },
  {
   "cell_type": "code",
   "execution_count": 589,
   "metadata": {},
   "outputs": [
    {
     "data": {
      "text/plain": [
       "{'colorful pompom and thread tassel statement necklace',\n",
       " 'glass stone pendant metal choker - gold',\n",
       " 'lace choker'}"
      ]
     },
     "execution_count": 589,
     "metadata": {},
     "output_type": "execute_result"
    }
   ],
   "source": [
    "recommendation"
   ]
  },
  {
   "cell_type": "code",
   "execution_count": null,
   "metadata": {},
   "outputs": [],
   "source": []
  },
  {
   "cell_type": "code",
   "execution_count": 599,
   "metadata": {},
   "outputs": [],
   "source": [
    "sale=usjh_AR['lineitem_name'].sample(10)\n",
    "order=usjh_AR['lineitem_name'].sample(3)"
   ]
  },
  {
   "cell_type": "code",
   "execution_count": 600,
   "metadata": {},
   "outputs": [],
   "source": [
    "def prodcut_recommendation(sale, order, usjh_AR, rules_, rulec_):\n",
    "    sale=set(sale)\n",
    "    order=set(order)\n",
    "\n",
    "    #create the data frame for sale\n",
    "    s={'lineitem_name':[], 'vendor_category':[], 'frequency':[]}\n",
    "    for item in sale:\n",
    "        s['lineitem_name'].append(item)\n",
    "        s['vendor_category'].append(usjh_AR[usjh_AR['lineitem_name']==item].vendor_category.iloc[0])\n",
    "        s['frequency'].append(usjh_AR[usjh_AR['lineitem_name']==item].frequency.iloc[0])\n",
    "    \n",
    "    sale=pd.DataFrame(s)\n",
    "    #\n",
    "    #creat (vendor:category) basing on sale and order\n",
    "    sale_vc=[]\n",
    "    for item in sale['lineitem_name']:\n",
    "        sale_vc.append(usjh_AR[usjh_AR['lineitem_name']==item].vendor_category.iloc[0])\n",
    "    \n",
    "    sale_vc=set(sale_vc)\n",
    "    #\n",
    "    order_vc=[]\n",
    "    for item in order:\n",
    "        order_vc.append(usjh_AR[usjh_AR['lineitem_name']==item].vendor_category.iloc[0])\n",
    "    \n",
    "    order_vc=set(order_vc)\n",
    "    #\n",
    "    #recommendation basing on the highest support \n",
    "    #lookup the association rules\n",
    "    assoc_rules={'rhs':[], 'support':[]}\n",
    "\n",
    "    for item in order_vc:\n",
    "        if len(rules_[rules_['lhs']==item].rhs)>0: #some items have no rules_\n",
    "            assoc_rules['rhs'].append(rules_[rules_['lhs']==item].rhs.iloc[0])\n",
    "            assoc_rules['support'].append(rules_[rules_['lhs']==item].support.iloc[0])\n",
    "\n",
    "    assoc_rules=pd.DataFrame(assoc_rules)\n",
    "\n",
    "    rhs=assoc_rules.sort_values('support', ascending=False)\n",
    "\n",
    "    #check if there is on sale item\n",
    "    recommend=''\n",
    "    r_support=0\n",
    "    for item in rhs['rhs']:\n",
    "    #if there are items on sale in rhs, return the one with the greatest support\n",
    "        if item in sale_vc:\n",
    "            if rhs[rhs['rhs']==item].support.iloc[0] > r_support:\n",
    "                recommend=item\n",
    "                r_support=rhs[rhs['rhs']==item].support.iloc[0]\n",
    "\n",
    "    #make recommendations basing on recommend\n",
    "    #if recommend is not empty, which means this is associated on item on sale, recommand the top 3\n",
    "    if recommend != '':\n",
    "        rec_items=sale[sale['vendor_category']==recommend].sort_values('frequency',ascending=False)\n",
    "        #if len(rec_items['lineitem_name'].unique())>3:\n",
    "        #rec_items=rec_items['lineitem_name'].unique()[:3]\n",
    "         #else:\n",
    "        rec_items=rec_items['lineitem_name'].unique()\n",
    "    #if there is no on sale item, the recommend will be an empty string, \n",
    "    #then just simply choose the item with the highest support in rhs\n",
    "    else :\n",
    "        recommend=rhs['rhs'].iloc[0]\n",
    "#now we have the final recommend, pick the specific items to make recommendation\n",
    "#find the lineitem name in recommend with top 3 frequency\n",
    "    \n",
    "    rec_items=usjh_AR[usjh_AR['vendor_category']==recommend].sort_values('frequency',ascending=False).lineitem_name\n",
    "#there are a lot of duplicated items, get the unique top 3\n",
    "    rec_items=rec_items.unique()[:3]\n",
    "\n",
    "    return rec_items"
   ]
  },
  {
   "cell_type": "code",
   "execution_count": 601,
   "metadata": {},
   "outputs": [
    {
     "data": {
      "text/plain": [
       "array(['lace choker',\n",
       "       'colorful pompom and thread tassel statement necklace',\n",
       "       'double layered pendant choker'], dtype=object)"
      ]
     },
     "execution_count": 601,
     "metadata": {},
     "output_type": "execute_result"
    }
   ],
   "source": [
    "prodcut_recommendation(sale, order, usjh_AR, rules_, rulec_)"
   ]
  },
  {
   "cell_type": "code",
   "execution_count": null,
   "metadata": {},
   "outputs": [],
   "source": []
  }
 ],
 "metadata": {
  "kernelspec": {
   "display_name": "Python 3",
   "language": "python",
   "name": "python3"
  },
  "language_info": {
   "codemirror_mode": {
    "name": "ipython",
    "version": 3
   },
   "file_extension": ".py",
   "mimetype": "text/x-python",
   "name": "python",
   "nbconvert_exporter": "python",
   "pygments_lexer": "ipython3",
   "version": "3.6.5"
  }
 },
 "nbformat": 4,
 "nbformat_minor": 2
}
