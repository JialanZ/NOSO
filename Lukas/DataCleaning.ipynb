{
 "cells": [
  {
   "cell_type": "markdown",
   "metadata": {},
   "source": [
    "# Data Cleaning"
   ]
  },
  {
   "cell_type": "markdown",
   "metadata": {},
   "source": [
    "Reading CSV & Importing Packages"
   ]
  },
  {
   "cell_type": "code",
   "execution_count": 267,
   "metadata": {},
   "outputs": [],
   "source": [
    "import pandas as pd\n",
    "import numpy as np\n",
    "import matplotlib.pyplot as plt\n",
    "import seaborn as sns\n",
    "import re\n",
    "plt.style.use('ggplot')\n",
    "%matplotlib inline"
   ]
  },
  {
   "cell_type": "code",
   "execution_count": 208,
   "metadata": {},
   "outputs": [
    {
     "name": "stderr",
     "output_type": "stream",
     "text": [
      "/anaconda3/lib/python3.6/site-packages/IPython/core/interactiveshell.py:2785: DtypeWarning: Columns (18,29,30,34,40) have mixed types. Specify dtype option on import or set low_memory=False.\n",
      "  interactivity=interactivity, compiler=compiler, result=result)\n"
     ]
    }
   ],
   "source": [
    "data = pd.read_csv('/Users/lukas/Desktop/USJH_order_dataset.csv')"
   ]
  },
  {
   "cell_type": "code",
   "execution_count": 209,
   "metadata": {},
   "outputs": [
    {
     "data": {
      "text/html": [
       "<div>\n",
       "<style scoped>\n",
       "    .dataframe tbody tr th:only-of-type {\n",
       "        vertical-align: middle;\n",
       "    }\n",
       "\n",
       "    .dataframe tbody tr th {\n",
       "        vertical-align: top;\n",
       "    }\n",
       "\n",
       "    .dataframe thead th {\n",
       "        text-align: right;\n",
       "    }\n",
       "</style>\n",
       "<table border=\"1\" class=\"dataframe\">\n",
       "  <thead>\n",
       "    <tr style=\"text-align: right;\">\n",
       "      <th></th>\n",
       "      <th>Name</th>\n",
       "      <th>Financial Status</th>\n",
       "      <th>Paid at</th>\n",
       "      <th>Fulfillment Status</th>\n",
       "      <th>Accepts Marketing</th>\n",
       "      <th>Currency</th>\n",
       "      <th>Subtotal</th>\n",
       "      <th>Shipping</th>\n",
       "      <th>Taxes</th>\n",
       "      <th>Total</th>\n",
       "      <th>...</th>\n",
       "      <th>Refunded Amount</th>\n",
       "      <th>Vendor</th>\n",
       "      <th>Tags</th>\n",
       "      <th>Risk Level</th>\n",
       "      <th>Source</th>\n",
       "      <th>Lineitem name.1</th>\n",
       "      <th>Color</th>\n",
       "      <th>Unnamed: 39</th>\n",
       "      <th>Unnamed: 40</th>\n",
       "      <th>Tax 3 Name</th>\n",
       "    </tr>\n",
       "  </thead>\n",
       "  <tbody>\n",
       "    <tr>\n",
       "      <th>0</th>\n",
       "      <td>#4746</td>\n",
       "      <td>paid</td>\n",
       "      <td>7/16/18 12:31</td>\n",
       "      <td>unfulfilled</td>\n",
       "      <td>yes</td>\n",
       "      <td>USD</td>\n",
       "      <td>100.5</td>\n",
       "      <td>13.64</td>\n",
       "      <td>0.0</td>\n",
       "      <td>114.14</td>\n",
       "      <td>...</td>\n",
       "      <td>0.0</td>\n",
       "      <td>US Jewelry House</td>\n",
       "      <td>NaN</td>\n",
       "      <td>Low</td>\n",
       "      <td>web</td>\n",
       "      <td>Turquoise Crystal Rhinestone Ring</td>\n",
       "      <td>GDTQ</td>\n",
       "      <td>NaN</td>\n",
       "      <td>NaN</td>\n",
       "      <td>NaN</td>\n",
       "    </tr>\n",
       "    <tr>\n",
       "      <th>1</th>\n",
       "      <td>#4746</td>\n",
       "      <td>NaN</td>\n",
       "      <td>NaN</td>\n",
       "      <td>NaN</td>\n",
       "      <td>NaN</td>\n",
       "      <td>NaN</td>\n",
       "      <td>NaN</td>\n",
       "      <td>NaN</td>\n",
       "      <td>NaN</td>\n",
       "      <td>NaN</td>\n",
       "      <td>...</td>\n",
       "      <td>NaN</td>\n",
       "      <td>US Jewelry House</td>\n",
       "      <td>NaN</td>\n",
       "      <td>NaN</td>\n",
       "      <td>NaN</td>\n",
       "      <td>Turquoise Crystal Rhinestone Ring</td>\n",
       "      <td>GDTQ</td>\n",
       "      <td>NaN</td>\n",
       "      <td>NaN</td>\n",
       "      <td>NaN</td>\n",
       "    </tr>\n",
       "    <tr>\n",
       "      <th>2</th>\n",
       "      <td>#4746</td>\n",
       "      <td>NaN</td>\n",
       "      <td>NaN</td>\n",
       "      <td>NaN</td>\n",
       "      <td>NaN</td>\n",
       "      <td>NaN</td>\n",
       "      <td>NaN</td>\n",
       "      <td>NaN</td>\n",
       "      <td>NaN</td>\n",
       "      <td>NaN</td>\n",
       "      <td>...</td>\n",
       "      <td>NaN</td>\n",
       "      <td>impression</td>\n",
       "      <td>NaN</td>\n",
       "      <td>NaN</td>\n",
       "      <td>NaN</td>\n",
       "      <td>Tri Tone Cubic Zirconia Paved Simple Band Ring...</td>\n",
       "      <td>Size 8</td>\n",
       "      <td>NaN</td>\n",
       "      <td>NaN</td>\n",
       "      <td>NaN</td>\n",
       "    </tr>\n",
       "    <tr>\n",
       "      <th>3</th>\n",
       "      <td>#4746</td>\n",
       "      <td>NaN</td>\n",
       "      <td>NaN</td>\n",
       "      <td>NaN</td>\n",
       "      <td>NaN</td>\n",
       "      <td>NaN</td>\n",
       "      <td>NaN</td>\n",
       "      <td>NaN</td>\n",
       "      <td>NaN</td>\n",
       "      <td>NaN</td>\n",
       "      <td>...</td>\n",
       "      <td>NaN</td>\n",
       "      <td>Ella</td>\n",
       "      <td>NaN</td>\n",
       "      <td>NaN</td>\n",
       "      <td>NaN</td>\n",
       "      <td>Geometric Tortoise Link Long Necklace</td>\n",
       "      <td>Brown</td>\n",
       "      <td>NaN</td>\n",
       "      <td>NaN</td>\n",
       "      <td>NaN</td>\n",
       "    </tr>\n",
       "    <tr>\n",
       "      <th>4</th>\n",
       "      <td>#4746</td>\n",
       "      <td>NaN</td>\n",
       "      <td>NaN</td>\n",
       "      <td>NaN</td>\n",
       "      <td>NaN</td>\n",
       "      <td>NaN</td>\n",
       "      <td>NaN</td>\n",
       "      <td>NaN</td>\n",
       "      <td>NaN</td>\n",
       "      <td>NaN</td>\n",
       "      <td>...</td>\n",
       "      <td>NaN</td>\n",
       "      <td>Stylist</td>\n",
       "      <td>NaN</td>\n",
       "      <td>NaN</td>\n",
       "      <td>NaN</td>\n",
       "      <td>Acetate Skinny Bangle Bracelet With Front Clos...</td>\n",
       "      <td>White/Brown</td>\n",
       "      <td>NaN</td>\n",
       "      <td>NaN</td>\n",
       "      <td>NaN</td>\n",
       "    </tr>\n",
       "  </tbody>\n",
       "</table>\n",
       "<p>5 rows × 42 columns</p>\n",
       "</div>"
      ],
      "text/plain": [
       "    Name Financial Status        Paid at Fulfillment Status Accepts Marketing  \\\n",
       "0  #4746             paid  7/16/18 12:31        unfulfilled               yes   \n",
       "1  #4746              NaN            NaN                NaN               NaN   \n",
       "2  #4746              NaN            NaN                NaN               NaN   \n",
       "3  #4746              NaN            NaN                NaN               NaN   \n",
       "4  #4746              NaN            NaN                NaN               NaN   \n",
       "\n",
       "  Currency  Subtotal  Shipping  Taxes   Total    ...     Refunded Amount  \\\n",
       "0      USD     100.5     13.64    0.0  114.14    ...                 0.0   \n",
       "1      NaN       NaN       NaN    NaN     NaN    ...                 NaN   \n",
       "2      NaN       NaN       NaN    NaN     NaN    ...                 NaN   \n",
       "3      NaN       NaN       NaN    NaN     NaN    ...                 NaN   \n",
       "4      NaN       NaN       NaN    NaN     NaN    ...                 NaN   \n",
       "\n",
       "             Vendor Tags Risk Level  Source  \\\n",
       "0  US Jewelry House  NaN        Low     web   \n",
       "1  US Jewelry House  NaN        NaN     NaN   \n",
       "2        impression  NaN        NaN     NaN   \n",
       "3              Ella  NaN        NaN     NaN   \n",
       "4           Stylist  NaN        NaN     NaN   \n",
       "\n",
       "                                     Lineitem name.1        Color   \\\n",
       "0                 Turquoise Crystal Rhinestone Ring           GDTQ   \n",
       "1                 Turquoise Crystal Rhinestone Ring           GDTQ   \n",
       "2  Tri Tone Cubic Zirconia Paved Simple Band Ring...        Size 8   \n",
       "3             Geometric Tortoise Link Long Necklace          Brown   \n",
       "4  Acetate Skinny Bangle Bracelet With Front Clos...   White/Brown   \n",
       "\n",
       "   Unnamed: 39 Unnamed: 40 Tax 3 Name  \n",
       "0          NaN         NaN        NaN  \n",
       "1          NaN         NaN        NaN  \n",
       "2          NaN         NaN        NaN  \n",
       "3          NaN         NaN        NaN  \n",
       "4          NaN         NaN        NaN  \n",
       "\n",
       "[5 rows x 42 columns]"
      ]
     },
     "execution_count": 209,
     "metadata": {},
     "output_type": "execute_result"
    }
   ],
   "source": [
    "data.head()"
   ]
  },
  {
   "cell_type": "code",
   "execution_count": 210,
   "metadata": {},
   "outputs": [],
   "source": [
    "#Dropping Unnamed: 39, Unnamed: 40, Tax 3 Name, Note Attributes, Tags\n",
    "data.drop(['Unnamed: 39', 'Unnamed: 40', 'Tax 3 Name', 'Note Attributes', 'Tags', 'Shipping Address2'], axis=1, inplace=True)"
   ]
  },
  {
   "cell_type": "code",
   "execution_count": 211,
   "metadata": {},
   "outputs": [],
   "source": [
    "#getting rid of spaces in column names\n",
    "data.columns = data.columns.str.replace(\" \",\"_\")"
   ]
  },
  {
   "cell_type": "markdown",
   "metadata": {},
   "source": [
    "Dealing w NA's"
   ]
  },
  {
   "cell_type": "code",
   "execution_count": 212,
   "metadata": {},
   "outputs": [
    {
     "data": {
      "text/html": [
       "<div>\n",
       "<style scoped>\n",
       "    .dataframe tbody tr th:only-of-type {\n",
       "        vertical-align: middle;\n",
       "    }\n",
       "\n",
       "    .dataframe tbody tr th {\n",
       "        vertical-align: top;\n",
       "    }\n",
       "\n",
       "    .dataframe thead th {\n",
       "        text-align: right;\n",
       "    }\n",
       "</style>\n",
       "<table border=\"1\" class=\"dataframe\">\n",
       "  <thead>\n",
       "    <tr style=\"text-align: right;\">\n",
       "      <th></th>\n",
       "      <th>Name</th>\n",
       "      <th>Financial_Status</th>\n",
       "      <th>Paid_at</th>\n",
       "      <th>Fulfillment_Status</th>\n",
       "      <th>Accepts_Marketing</th>\n",
       "      <th>Currency</th>\n",
       "      <th>Subtotal</th>\n",
       "      <th>Shipping</th>\n",
       "      <th>Taxes</th>\n",
       "      <th>Total</th>\n",
       "      <th>...</th>\n",
       "      <th>Shipping_Country</th>\n",
       "      <th>Notes</th>\n",
       "      <th>Cancelled_at</th>\n",
       "      <th>Payment_Method</th>\n",
       "      <th>Refunded_Amount</th>\n",
       "      <th>Vendor</th>\n",
       "      <th>Risk_Level</th>\n",
       "      <th>Source</th>\n",
       "      <th>Lineitem_name.1</th>\n",
       "      <th>Color_</th>\n",
       "    </tr>\n",
       "  </thead>\n",
       "  <tbody>\n",
       "    <tr>\n",
       "      <th>0</th>\n",
       "      <td>#4746</td>\n",
       "      <td>paid</td>\n",
       "      <td>7/16/18 12:31</td>\n",
       "      <td>unfulfilled</td>\n",
       "      <td>yes</td>\n",
       "      <td>USD</td>\n",
       "      <td>100.5</td>\n",
       "      <td>13.64</td>\n",
       "      <td>0.0</td>\n",
       "      <td>114.14</td>\n",
       "      <td>...</td>\n",
       "      <td>US</td>\n",
       "      <td>NaN</td>\n",
       "      <td>NaN</td>\n",
       "      <td>Shopify Payments</td>\n",
       "      <td>0.0</td>\n",
       "      <td>US Jewelry House</td>\n",
       "      <td>Low</td>\n",
       "      <td>web</td>\n",
       "      <td>Turquoise Crystal Rhinestone Ring</td>\n",
       "      <td>GDTQ</td>\n",
       "    </tr>\n",
       "    <tr>\n",
       "      <th>1</th>\n",
       "      <td>#4746</td>\n",
       "      <td>paid</td>\n",
       "      <td>7/16/18 12:31</td>\n",
       "      <td>unfulfilled</td>\n",
       "      <td>yes</td>\n",
       "      <td>USD</td>\n",
       "      <td>100.5</td>\n",
       "      <td>13.64</td>\n",
       "      <td>0.0</td>\n",
       "      <td>114.14</td>\n",
       "      <td>...</td>\n",
       "      <td>US</td>\n",
       "      <td>NaN</td>\n",
       "      <td>NaN</td>\n",
       "      <td>Shopify Payments</td>\n",
       "      <td>NaN</td>\n",
       "      <td>US Jewelry House</td>\n",
       "      <td>Low</td>\n",
       "      <td>web</td>\n",
       "      <td>Turquoise Crystal Rhinestone Ring</td>\n",
       "      <td>GDTQ</td>\n",
       "    </tr>\n",
       "    <tr>\n",
       "      <th>2</th>\n",
       "      <td>#4746</td>\n",
       "      <td>paid</td>\n",
       "      <td>7/16/18 12:31</td>\n",
       "      <td>unfulfilled</td>\n",
       "      <td>yes</td>\n",
       "      <td>USD</td>\n",
       "      <td>100.5</td>\n",
       "      <td>13.64</td>\n",
       "      <td>0.0</td>\n",
       "      <td>114.14</td>\n",
       "      <td>...</td>\n",
       "      <td>US</td>\n",
       "      <td>NaN</td>\n",
       "      <td>NaN</td>\n",
       "      <td>Shopify Payments</td>\n",
       "      <td>NaN</td>\n",
       "      <td>impression</td>\n",
       "      <td>Low</td>\n",
       "      <td>web</td>\n",
       "      <td>Tri Tone Cubic Zirconia Paved Simple Band Ring...</td>\n",
       "      <td>Size 8</td>\n",
       "    </tr>\n",
       "    <tr>\n",
       "      <th>3</th>\n",
       "      <td>#4746</td>\n",
       "      <td>paid</td>\n",
       "      <td>7/16/18 12:31</td>\n",
       "      <td>unfulfilled</td>\n",
       "      <td>yes</td>\n",
       "      <td>USD</td>\n",
       "      <td>100.5</td>\n",
       "      <td>13.64</td>\n",
       "      <td>0.0</td>\n",
       "      <td>114.14</td>\n",
       "      <td>...</td>\n",
       "      <td>US</td>\n",
       "      <td>NaN</td>\n",
       "      <td>NaN</td>\n",
       "      <td>Shopify Payments</td>\n",
       "      <td>NaN</td>\n",
       "      <td>Ella</td>\n",
       "      <td>Low</td>\n",
       "      <td>web</td>\n",
       "      <td>Geometric Tortoise Link Long Necklace</td>\n",
       "      <td>Brown</td>\n",
       "    </tr>\n",
       "    <tr>\n",
       "      <th>4</th>\n",
       "      <td>#4746</td>\n",
       "      <td>paid</td>\n",
       "      <td>7/16/18 12:31</td>\n",
       "      <td>unfulfilled</td>\n",
       "      <td>yes</td>\n",
       "      <td>USD</td>\n",
       "      <td>100.5</td>\n",
       "      <td>13.64</td>\n",
       "      <td>0.0</td>\n",
       "      <td>114.14</td>\n",
       "      <td>...</td>\n",
       "      <td>US</td>\n",
       "      <td>NaN</td>\n",
       "      <td>NaN</td>\n",
       "      <td>Shopify Payments</td>\n",
       "      <td>NaN</td>\n",
       "      <td>Stylist</td>\n",
       "      <td>Low</td>\n",
       "      <td>web</td>\n",
       "      <td>Acetate Skinny Bangle Bracelet With Front Clos...</td>\n",
       "      <td>White/Brown</td>\n",
       "    </tr>\n",
       "  </tbody>\n",
       "</table>\n",
       "<p>5 rows × 36 columns</p>\n",
       "</div>"
      ],
      "text/plain": [
       "    Name Financial_Status        Paid_at Fulfillment_Status Accepts_Marketing  \\\n",
       "0  #4746             paid  7/16/18 12:31        unfulfilled               yes   \n",
       "1  #4746             paid  7/16/18 12:31        unfulfilled               yes   \n",
       "2  #4746             paid  7/16/18 12:31        unfulfilled               yes   \n",
       "3  #4746             paid  7/16/18 12:31        unfulfilled               yes   \n",
       "4  #4746             paid  7/16/18 12:31        unfulfilled               yes   \n",
       "\n",
       "  Currency  Subtotal  Shipping  Taxes   Total      ...      Shipping_Country  \\\n",
       "0      USD     100.5     13.64    0.0  114.14      ...                    US   \n",
       "1      USD     100.5     13.64    0.0  114.14      ...                    US   \n",
       "2      USD     100.5     13.64    0.0  114.14      ...                    US   \n",
       "3      USD     100.5     13.64    0.0  114.14      ...                    US   \n",
       "4      USD     100.5     13.64    0.0  114.14      ...                    US   \n",
       "\n",
       "   Notes Cancelled_at    Payment_Method  Refunded_Amount            Vendor  \\\n",
       "0    NaN          NaN  Shopify Payments              0.0  US Jewelry House   \n",
       "1    NaN          NaN  Shopify Payments              NaN  US Jewelry House   \n",
       "2    NaN          NaN  Shopify Payments              NaN        impression   \n",
       "3    NaN          NaN  Shopify Payments              NaN              Ella   \n",
       "4    NaN          NaN  Shopify Payments              NaN           Stylist   \n",
       "\n",
       "   Risk_Level  Source                                    Lineitem_name.1  \\\n",
       "0         Low     web                 Turquoise Crystal Rhinestone Ring    \n",
       "1         Low     web                 Turquoise Crystal Rhinestone Ring    \n",
       "2         Low     web  Tri Tone Cubic Zirconia Paved Simple Band Ring...   \n",
       "3         Low     web             Geometric Tortoise Link Long Necklace    \n",
       "4         Low     web  Acetate Skinny Bangle Bracelet With Front Clos...   \n",
       "\n",
       "         Color_  \n",
       "0          GDTQ  \n",
       "1          GDTQ  \n",
       "2        Size 8  \n",
       "3         Brown  \n",
       "4   White/Brown  \n",
       "\n",
       "[5 rows x 36 columns]"
      ]
     },
     "execution_count": 212,
     "metadata": {},
     "output_type": "execute_result"
    }
   ],
   "source": [
    "#filling NA's\n",
    "fill_na_above = ['Financial_Status', 'Paid_at', 'Fulfillment_Status',\n",
    "       'Accepts_Marketing', 'Currency', 'Subtotal', 'Shipping', 'Taxes',\n",
    "       'Total', 'Shipping_Method', 'Shipping_Street', 'Shipping_Address1',\n",
    "        'Shipping_Company', 'Shipping_City',\n",
    "       'Shipping_Zip', 'Shipping_Province', 'Shipping_Country',\n",
    "       'Payment_Method','Risk_Level', 'Source']\n",
    "data.loc[:,fill_na_above] = data.loc[:,fill_na_above].fillna(method='ffill')\n",
    "data.head()"
   ]
  },
  {
   "cell_type": "code",
   "execution_count": 213,
   "metadata": {},
   "outputs": [
    {
     "name": "stdout",
     "output_type": "stream",
     "text": [
      "<class 'pandas.core.frame.DataFrame'>\n",
      "RangeIndex: 85925 entries, 0 to 85924\n",
      "Data columns (total 36 columns):\n",
      "Name                           85925 non-null object\n",
      "Financial_Status               85925 non-null object\n",
      "Paid_at                        85925 non-null object\n",
      "Fulfillment_Status             85925 non-null object\n",
      "Accepts_Marketing              85925 non-null object\n",
      "Currency                       85925 non-null object\n",
      "Subtotal                       85925 non-null float64\n",
      "Shipping                       85925 non-null float64\n",
      "Taxes                          85925 non-null float64\n",
      "Total                          85925 non-null float64\n",
      "Discount_Code                  407 non-null object\n",
      "Discount_Amount                3746 non-null float64\n",
      "Shipping_Method                85925 non-null object\n",
      "Created_at                     85925 non-null object\n",
      "Lineitem_quantity              85925 non-null int64\n",
      "Lineitem_name                  85925 non-null object\n",
      "Lineitem_price                 85925 non-null float64\n",
      "Lineitem_compare_at_price      7050 non-null float64\n",
      "Lineitem_sku                   41272 non-null object\n",
      "Lineitem_fulfillment_status    85925 non-null object\n",
      "Shipping_Street                85925 non-null object\n",
      "Shipping_Address1              85925 non-null object\n",
      "Shipping_Company               85925 non-null object\n",
      "Shipping_City                  85925 non-null object\n",
      "Shipping_Zip                   85925 non-null object\n",
      "Shipping_Province              85925 non-null object\n",
      "Shipping_Country               85925 non-null object\n",
      "Notes                          264 non-null object\n",
      "Cancelled_at                   56 non-null object\n",
      "Payment_Method                 85925 non-null object\n",
      "Refunded_Amount                3746 non-null float64\n",
      "Vendor                         85790 non-null object\n",
      "Risk_Level                     85925 non-null object\n",
      "Source                         85925 non-null object\n",
      "Lineitem_name.1                85925 non-null object\n",
      "Color_                         75894 non-null object\n",
      "dtypes: float64(8), int64(1), object(27)\n",
      "memory usage: 23.6+ MB\n"
     ]
    }
   ],
   "source": [
    "data.info()"
   ]
  },
  {
   "cell_type": "code",
   "execution_count": 214,
   "metadata": {},
   "outputs": [],
   "source": [
    "#Filling in NA's w NoDiscount\n",
    "data['Discount_Code'].fillna('NoDiscount', inplace=True)"
   ]
  },
  {
   "cell_type": "code",
   "execution_count": 215,
   "metadata": {},
   "outputs": [],
   "source": [
    "#Filling in 0's where there was no discount\n",
    "data['Discount_Amount'].fillna(0, inplace=True)"
   ]
  },
  {
   "cell_type": "code",
   "execution_count": 216,
   "metadata": {},
   "outputs": [],
   "source": [
    "#Lineitem_compare_at_price same as originial price -> create mask from original price\n",
    "mask = data['Lineitem_compare_at_price'].isnull()\n",
    "filler = data['Lineitem_price'][mask]\n",
    "data['Lineitem_compare_at_price'].fillna(filler, inplace=True)"
   ]
  },
  {
   "cell_type": "code",
   "execution_count": 217,
   "metadata": {},
   "outputs": [],
   "source": [
    "#Lineitem_sku fill in NA's w nosku and convert to string\n",
    "data['Lineitem_sku'] = data['Lineitem_sku'].astype(str)\n",
    "data['Lineitem_sku'].fillna('NoSKU', inplace=True)"
   ]
  },
  {
   "cell_type": "code",
   "execution_count": 218,
   "metadata": {},
   "outputs": [],
   "source": [
    "#Notes -> only 264 Notes, keep?\n",
    "#In meantime, fill NA's w \"NoNotes\"\n",
    "data['Notes'].fillna('NoNotes', inplace=True)"
   ]
  },
  {
   "cell_type": "code",
   "execution_count": 219,
   "metadata": {},
   "outputs": [],
   "source": [
    "#Cancelled_at -> convert to categorical\n",
    "data.Cancelled_at = data.Cancelled_at.isnull().astype(int)\n",
    "data.columns = data.columns.str.replace('Cancelled_at', 'Cancelled')"
   ]
  },
  {
   "cell_type": "code",
   "execution_count": 220,
   "metadata": {},
   "outputs": [],
   "source": [
    "#Filling in 0's where there was no refund\n",
    "data['Refunded_Amount'].fillna(0, inplace=True)"
   ]
  },
  {
   "cell_type": "code",
   "execution_count": 221,
   "metadata": {},
   "outputs": [],
   "source": [
    "#Filling in 'Unknown' for NA vendors\n",
    "data['Vendor'].fillna('UnknownVendor', inplace=True)"
   ]
  },
  {
   "cell_type": "code",
   "execution_count": 222,
   "metadata": {},
   "outputs": [],
   "source": [
    "#Filling in 'NoColor' for NA vendors\n",
    "data['Color_'].fillna('NoColor', inplace=True)"
   ]
  },
  {
   "cell_type": "markdown",
   "metadata": {},
   "source": [
    "Standardizing column names"
   ]
  },
  {
   "cell_type": "code",
   "execution_count": 223,
   "metadata": {},
   "outputs": [],
   "source": [
    "data.columns = data.columns.str.replace(\"Lineitem_name.1\", \"Lineitem_name\")\n",
    "data.columns = data.columns.str.replace(\"Color_\", \"Color\")"
   ]
  },
  {
   "cell_type": "code",
   "execution_count": 224,
   "metadata": {},
   "outputs": [],
   "source": [
    "#converting to lowercase\n",
    "data.columns = data.columns.str.lower()"
   ]
  },
  {
   "cell_type": "markdown",
   "metadata": {},
   "source": [
    "Converting paid_at and created_at to datetime"
   ]
  },
  {
   "cell_type": "code",
   "execution_count": 225,
   "metadata": {},
   "outputs": [],
   "source": [
    "data['paid_at'] = pd.to_datetime(data['paid_at'], format='%m/%d/%y %H:%M')"
   ]
  },
  {
   "cell_type": "code",
   "execution_count": 226,
   "metadata": {},
   "outputs": [],
   "source": [
    "data['created_at'] = pd.to_datetime(data['created_at'], format='%m/%d/%y %H:%M')"
   ]
  },
  {
   "cell_type": "markdown",
   "metadata": {},
   "source": [
    "Converting all strings to lowercase"
   ]
  },
  {
   "cell_type": "code",
   "execution_count": 252,
   "metadata": {},
   "outputs": [
    {
     "name": "stdout",
     "output_type": "stream",
     "text": [
      "<class 'pandas.core.frame.DataFrame'>\n",
      "RangeIndex: 85925 entries, 0 to 85924\n",
      "Data columns (total 36 columns):\n",
      "name                           85925 non-null object\n",
      "financial_status               85925 non-null object\n",
      "paid_at                        85925 non-null datetime64[ns]\n",
      "fulfillment_status             85925 non-null object\n",
      "accepts_marketing              85925 non-null object\n",
      "currency                       85925 non-null object\n",
      "subtotal                       85925 non-null float64\n",
      "shipping                       85925 non-null float64\n",
      "taxes                          85925 non-null float64\n",
      "total                          85925 non-null float64\n",
      "discount_code                  85925 non-null object\n",
      "discount_amount                85925 non-null float64\n",
      "shipping_method                85925 non-null object\n",
      "created_at                     85925 non-null datetime64[ns]\n",
      "lineitem_quantity              85925 non-null int64\n",
      "lineitem_name                  85925 non-null object\n",
      "lineitem_price                 85925 non-null float64\n",
      "lineitem_compare_at_price      85925 non-null float64\n",
      "lineitem_sku                   85925 non-null object\n",
      "lineitem_fulfillment_status    85925 non-null object\n",
      "shipping_street                85925 non-null object\n",
      "shipping_address1              85925 non-null object\n",
      "shipping_company               85925 non-null object\n",
      "shipping_city                  85925 non-null object\n",
      "shipping_zip                   85925 non-null object\n",
      "shipping_province              85925 non-null object\n",
      "shipping_country               85925 non-null object\n",
      "notes                          85925 non-null object\n",
      "cancelled                      85925 non-null int64\n",
      "payment_method                 85925 non-null object\n",
      "refunded_amount                85925 non-null float64\n",
      "vendor                         85925 non-null object\n",
      "risk_level                     85925 non-null object\n",
      "source                         85925 non-null object\n",
      "lineitem_name                  85925 non-null object\n",
      "color                          85925 non-null object\n",
      "dtypes: datetime64[ns](2), float64(8), int64(2), object(24)\n",
      "memory usage: 23.6+ MB\n"
     ]
    }
   ],
   "source": [
    "data.info()"
   ]
  },
  {
   "cell_type": "code",
   "execution_count": 250,
   "metadata": {},
   "outputs": [],
   "source": [
    "mask = data.select_dtypes(include=['object']).columns.tolist()\n",
    "data[mask] = data.select_dtypes(include=['object']).apply(lambda x: x.astype(str).str.lower())"
   ]
  },
  {
   "cell_type": "markdown",
   "metadata": {},
   "source": [
    "Creating category column"
   ]
  },
  {
   "cell_type": "code",
   "execution_count": 306,
   "metadata": {},
   "outputs": [],
   "source": [
    "category = []"
   ]
  },
  {
   "cell_type": "code",
   "execution_count": 307,
   "metadata": {},
   "outputs": [],
   "source": [
    "i=0\n",
    "\n",
    "while i < len(data['lineitem_name']):\n",
    "    \n",
    "    el = data.iloc[i,15]\n",
    "    \n",
    "    if bool(re.search(\".*(ear).*\" , el)) == True:\n",
    "        category.append('earring')\n",
    "    elif bool(re.search(\".*(necklace).*\" , el)) == True:\n",
    "        category.append('necklace')\n",
    "    elif bool(re.search(\".*(bracelet).*\" , el)) == True:\n",
    "        category.append('bracelet')\n",
    "    elif bool(re.search(\".*(tassel).*\" , el)) == True:\n",
    "        category.append('tassel')\n",
    "    elif bool(re.search(\".*(ring).*\" , el)) == True:\n",
    "        category.append('ring')\n",
    "    elif bool(re.search(\".*(mannequin).*\" , el)) == True:\n",
    "        category.append('mannequin')\n",
    "    elif bool(re.search(\".*(bead).*\" , el)) == True:\n",
    "        category.append('bead')\n",
    "    else:\n",
    "        category.append('other')\n",
    "        \n",
    "    i+=1\n",
    "    \n",
    "  "
   ]
  },
  {
   "cell_type": "code",
   "execution_count": 308,
   "metadata": {},
   "outputs": [],
   "source": [
    "category = pd.Series(category)"
   ]
  },
  {
   "cell_type": "code",
   "execution_count": 315,
   "metadata": {},
   "outputs": [],
   "source": [
    "data = pd.concat([data, category.rename('category')], axis=1)"
   ]
  },
  {
   "cell_type": "code",
   "execution_count": 280,
   "metadata": {},
   "outputs": [],
   "source": [
    "#getting rid of duplicate column\n",
    "data.columns = ['name',\n",
    " 'financial_status',\n",
    " 'paid_at',\n",
    " 'fulfillment_status',\n",
    " 'accepts_marketing',\n",
    " 'currency',\n",
    " 'subtotal',\n",
    " 'shipping',\n",
    " 'taxes',\n",
    " 'total',\n",
    " 'discount_code',\n",
    " 'discount_amount',\n",
    " 'shipping_method',\n",
    " 'created_at',\n",
    " 'lineitem_quantity',\n",
    " 'lineitem_name',\n",
    " 'lineitem_price',\n",
    " 'lineitem_compare_at_price',\n",
    " 'lineitem_sku',\n",
    " 'lineitem_fulfillment_status',\n",
    " 'shipping_street',\n",
    " 'shipping_address1',\n",
    " 'shipping_company',\n",
    " 'shipping_city',\n",
    " 'shipping_zip',\n",
    " 'shipping_province',\n",
    " 'shipping_country',\n",
    " 'notes',\n",
    " 'cancelled',\n",
    " 'payment_method',\n",
    " 'refunded_amount',\n",
    " 'vendor',\n",
    " 'risk_level',\n",
    " 'source',\n",
    " 'lineitem_name1',\n",
    " 'color']"
   ]
  },
  {
   "cell_type": "code",
   "execution_count": 281,
   "metadata": {},
   "outputs": [],
   "source": [
    "data.drop('lineitem_name1', axis=1, inplace=True)"
   ]
  },
  {
   "cell_type": "code",
   "execution_count": 316,
   "metadata": {},
   "outputs": [
    {
     "name": "stdout",
     "output_type": "stream",
     "text": [
      "<class 'pandas.core.frame.DataFrame'>\n",
      "RangeIndex: 85925 entries, 0 to 85924\n",
      "Data columns (total 36 columns):\n",
      "name                           85925 non-null object\n",
      "financial_status               85925 non-null object\n",
      "paid_at                        85925 non-null datetime64[ns]\n",
      "fulfillment_status             85925 non-null object\n",
      "accepts_marketing              85925 non-null object\n",
      "currency                       85925 non-null object\n",
      "subtotal                       85925 non-null float64\n",
      "shipping                       85925 non-null float64\n",
      "taxes                          85925 non-null float64\n",
      "total                          85925 non-null float64\n",
      "discount_code                  85925 non-null object\n",
      "discount_amount                85925 non-null float64\n",
      "shipping_method                85925 non-null object\n",
      "created_at                     85925 non-null datetime64[ns]\n",
      "lineitem_quantity              85925 non-null int64\n",
      "lineitem_name                  85925 non-null object\n",
      "lineitem_price                 85925 non-null float64\n",
      "lineitem_compare_at_price      85925 non-null float64\n",
      "lineitem_sku                   85925 non-null object\n",
      "lineitem_fulfillment_status    85925 non-null object\n",
      "shipping_street                85925 non-null object\n",
      "shipping_address1              85925 non-null object\n",
      "shipping_company               85925 non-null object\n",
      "shipping_city                  85925 non-null object\n",
      "shipping_zip                   85925 non-null object\n",
      "shipping_province              85925 non-null object\n",
      "shipping_country               85925 non-null object\n",
      "notes                          85925 non-null object\n",
      "cancelled                      85925 non-null int64\n",
      "payment_method                 85925 non-null object\n",
      "refunded_amount                85925 non-null float64\n",
      "vendor                         85925 non-null object\n",
      "risk_level                     85925 non-null object\n",
      "source                         85925 non-null object\n",
      "color                          85925 non-null object\n",
      "category                       85925 non-null object\n",
      "dtypes: datetime64[ns](2), float64(8), int64(2), object(24)\n",
      "memory usage: 23.6+ MB\n"
     ]
    }
   ],
   "source": [
    "data.info()"
   ]
  },
  {
   "cell_type": "markdown",
   "metadata": {},
   "source": [
    "Export to CSV"
   ]
  },
  {
   "cell_type": "code",
   "execution_count": 319,
   "metadata": {},
   "outputs": [],
   "source": [
    "data.to_csv('cleanedUSJH.csv')"
   ]
  },
  {
   "cell_type": "code",
   "execution_count": null,
   "metadata": {},
   "outputs": [],
   "source": []
  }
 ],
 "metadata": {
  "kernelspec": {
   "display_name": "Python 3",
   "language": "python",
   "name": "python3"
  },
  "language_info": {
   "codemirror_mode": {
    "name": "ipython",
    "version": 3
   },
   "file_extension": ".py",
   "mimetype": "text/x-python",
   "name": "python",
   "nbconvert_exporter": "python",
   "pygments_lexer": "ipython3",
   "version": "3.6.5"
  }
 },
 "nbformat": 4,
 "nbformat_minor": 2
}
