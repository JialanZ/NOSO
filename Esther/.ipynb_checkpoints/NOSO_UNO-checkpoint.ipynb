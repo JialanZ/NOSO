{
 "cells": [
  {
   "cell_type": "code",
   "execution_count": 6,
   "metadata": {},
   "outputs": [],
   "source": [
    "import pandas as pd\n",
    "import numpy as np\n",
    "import matplotlib.pyplot as plt\n",
    "import seaborn as sns\n",
    "from datetime import datetime\n",
    "plt.style.use('ggplot')\n",
    "%matplotlib inline"
   ]
  },
  {
   "cell_type": "markdown",
   "metadata": {},
   "source": [
    "### Data"
   ]
  },
  {
   "cell_type": "code",
   "execution_count": 2,
   "metadata": {},
   "outputs": [
    {
     "data": {
      "text/plain": [
       "Index(['STYLE#', 'COLOR', 'DESCRIPTION', 'CUST_#', 'INVC_DATE', 'QTY',\n",
       "       'UNIT_PRICE', 'EXT-AMT', 'REASON', 'IMPORT_HANDMADE', 'MANUFACTORS',\n",
       "       'State_sold', 'ZIP_sold', 'RELEASED_YEAR', 'Seasos', 'Season_target',\n",
       "       'LAST_RCVD', 'FIRST_RCVD', 'LAST_INVOICED', 'FIRST_INVOICED'],\n",
       "      dtype='object')"
      ]
     },
     "execution_count": 2,
     "metadata": {},
     "output_type": "execute_result"
    }
   ],
   "source": [
    "sale = pd.read_excel(\"UNO_Sale_vs_RCVD.xlsx\")\n",
    "sale.columns = sale.columns.str.replace(\" \",\"_\")\n",
    "sale.columns"
   ]
  },
  {
   "cell_type": "code",
   "execution_count": 3,
   "metadata": {},
   "outputs": [
    {
     "data": {
      "text/plain": [
       "(111043, 20)"
      ]
     },
     "execution_count": 3,
     "metadata": {},
     "output_type": "execute_result"
    }
   ],
   "source": [
    "sale.shape"
   ]
  },
  {
   "cell_type": "code",
   "execution_count": null,
   "metadata": {},
   "outputs": [],
   "source": []
  },
  {
   "cell_type": "code",
   "execution_count": 5,
   "metadata": {},
   "outputs": [
    {
     "data": {
      "text/html": [
       "<div>\n",
       "<style scoped>\n",
       "    .dataframe tbody tr th:only-of-type {\n",
       "        vertical-align: middle;\n",
       "    }\n",
       "\n",
       "    .dataframe tbody tr th {\n",
       "        vertical-align: top;\n",
       "    }\n",
       "\n",
       "    .dataframe thead th {\n",
       "        text-align: right;\n",
       "    }\n",
       "</style>\n",
       "<table border=\"1\" class=\"dataframe\">\n",
       "  <thead>\n",
       "    <tr style=\"text-align: right;\">\n",
       "      <th></th>\n",
       "      <th>STYLE#</th>\n",
       "      <th>COLOR</th>\n",
       "      <th>DESCRIPTION</th>\n",
       "      <th>CUST_#</th>\n",
       "      <th>INVC_DATE</th>\n",
       "      <th>QTY</th>\n",
       "      <th>UNIT_PRICE</th>\n",
       "      <th>EXT-AMT</th>\n",
       "      <th>REASON</th>\n",
       "      <th>IMPORT_HANDMADE</th>\n",
       "      <th>MANUFACTORS</th>\n",
       "      <th>State_sold</th>\n",
       "      <th>ZIP_sold</th>\n",
       "      <th>RELEASED_YEAR</th>\n",
       "      <th>Seasos</th>\n",
       "      <th>Season_target</th>\n",
       "      <th>LAST_RCVD</th>\n",
       "      <th>FIRST_RCVD</th>\n",
       "      <th>LAST_INVOICED</th>\n",
       "      <th>FIRST_INVOICED</th>\n",
       "    </tr>\n",
       "  </thead>\n",
       "  <tbody>\n",
       "    <tr>\n",
       "      <th>0</th>\n",
       "      <td>DTA1A9500</td>\n",
       "      <td>IV</td>\n",
       "      <td>SEED BEAD ANKLET</td>\n",
       "      <td>CB001</td>\n",
       "      <td>2016-04-12</td>\n",
       "      <td>144</td>\n",
       "      <td>4.00</td>\n",
       "      <td>576.0</td>\n",
       "      <td>NaN</td>\n",
       "      <td>IMPORT</td>\n",
       "      <td>ICC</td>\n",
       "      <td>FL</td>\n",
       "      <td>33708</td>\n",
       "      <td>2016</td>\n",
       "      <td>2016 1ST</td>\n",
       "      <td>SS16</td>\n",
       "      <td>2016-04-12 00:00:00</td>\n",
       "      <td>2016-04-12 00:00:00</td>\n",
       "      <td>2018-10-03</td>\n",
       "      <td>2016-04-12</td>\n",
       "    </tr>\n",
       "    <tr>\n",
       "      <th>1</th>\n",
       "      <td>DTA1A9500</td>\n",
       "      <td>MUL</td>\n",
       "      <td>SEED BEAD ANKLET</td>\n",
       "      <td>CB001</td>\n",
       "      <td>2016-04-12</td>\n",
       "      <td>144</td>\n",
       "      <td>4.00</td>\n",
       "      <td>576.0</td>\n",
       "      <td>NaN</td>\n",
       "      <td>IMPORT</td>\n",
       "      <td>ICC</td>\n",
       "      <td>FL</td>\n",
       "      <td>33708</td>\n",
       "      <td>2016</td>\n",
       "      <td>2016 1ST</td>\n",
       "      <td>SS16</td>\n",
       "      <td>2016-04-12 00:00:00</td>\n",
       "      <td>2016-04-12 00:00:00</td>\n",
       "      <td>2018-10-03</td>\n",
       "      <td>2016-04-12</td>\n",
       "    </tr>\n",
       "    <tr>\n",
       "      <th>2</th>\n",
       "      <td>DTA1A9500</td>\n",
       "      <td>TQ</td>\n",
       "      <td>SEED BEAD ANKLET</td>\n",
       "      <td>CB001</td>\n",
       "      <td>2016-04-12</td>\n",
       "      <td>144</td>\n",
       "      <td>4.00</td>\n",
       "      <td>576.0</td>\n",
       "      <td>NaN</td>\n",
       "      <td>IMPORT</td>\n",
       "      <td>ICC</td>\n",
       "      <td>FL</td>\n",
       "      <td>33708</td>\n",
       "      <td>2016</td>\n",
       "      <td>2016 1ST</td>\n",
       "      <td>SS16</td>\n",
       "      <td>2016-04-12 00:00:00</td>\n",
       "      <td>2016-04-12 00:00:00</td>\n",
       "      <td>2018-10-03</td>\n",
       "      <td>2016-04-12</td>\n",
       "    </tr>\n",
       "    <tr>\n",
       "      <th>3</th>\n",
       "      <td>DTA1B2029</td>\n",
       "      <td>WG-COR</td>\n",
       "      <td>3 ROW WOOD BEAD STRETCH BR</td>\n",
       "      <td>CHE005</td>\n",
       "      <td>2016-05-20</td>\n",
       "      <td>12</td>\n",
       "      <td>3.25</td>\n",
       "      <td>39.0</td>\n",
       "      <td>NaN</td>\n",
       "      <td>IMPORT</td>\n",
       "      <td>NOBLES</td>\n",
       "      <td>LA</td>\n",
       "      <td>71235</td>\n",
       "      <td>2016</td>\n",
       "      <td>2016 1ST</td>\n",
       "      <td>SS16</td>\n",
       "      <td>2016-04-11 00:00:00</td>\n",
       "      <td>2016-04-04 00:00:00</td>\n",
       "      <td>2018-10-03</td>\n",
       "      <td>2016-04-04</td>\n",
       "    </tr>\n",
       "    <tr>\n",
       "      <th>4</th>\n",
       "      <td>DTA1B2029</td>\n",
       "      <td>WG-COR</td>\n",
       "      <td>3 ROW WOOD BEAD STRETCH BR</td>\n",
       "      <td>GMA01</td>\n",
       "      <td>2016-08-22</td>\n",
       "      <td>24</td>\n",
       "      <td>3.25</td>\n",
       "      <td>78.0</td>\n",
       "      <td>NaN</td>\n",
       "      <td>IMPORT</td>\n",
       "      <td>NOBLES</td>\n",
       "      <td>0</td>\n",
       "      <td>0</td>\n",
       "      <td>2016</td>\n",
       "      <td>2016 1ST</td>\n",
       "      <td>SS16</td>\n",
       "      <td>2016-04-11 00:00:00</td>\n",
       "      <td>2016-04-04 00:00:00</td>\n",
       "      <td>2018-10-03</td>\n",
       "      <td>2016-04-04</td>\n",
       "    </tr>\n",
       "  </tbody>\n",
       "</table>\n",
       "</div>"
      ],
      "text/plain": [
       "      STYLE#   COLOR                 DESCRIPTION  CUST_#  INVC_DATE  QTY  \\\n",
       "0  DTA1A9500      IV            SEED BEAD ANKLET   CB001 2016-04-12  144   \n",
       "1  DTA1A9500     MUL            SEED BEAD ANKLET   CB001 2016-04-12  144   \n",
       "2  DTA1A9500      TQ            SEED BEAD ANKLET   CB001 2016-04-12  144   \n",
       "3  DTA1B2029  WG-COR  3 ROW WOOD BEAD STRETCH BR  CHE005 2016-05-20   12   \n",
       "4  DTA1B2029  WG-COR  3 ROW WOOD BEAD STRETCH BR   GMA01 2016-08-22   24   \n",
       "\n",
       "   UNIT_PRICE  EXT-AMT REASON IMPORT_HANDMADE MANUFACTORS State_sold ZIP_sold  \\\n",
       "0        4.00    576.0    NaN          IMPORT         ICC         FL    33708   \n",
       "1        4.00    576.0    NaN          IMPORT         ICC         FL    33708   \n",
       "2        4.00    576.0    NaN          IMPORT         ICC         FL    33708   \n",
       "3        3.25     39.0    NaN          IMPORT      NOBLES         LA    71235   \n",
       "4        3.25     78.0    NaN          IMPORT      NOBLES          0        0   \n",
       "\n",
       "  RELEASED_YEAR    Seasos Season_target            LAST_RCVD  \\\n",
       "0          2016  2016 1ST          SS16  2016-04-12 00:00:00   \n",
       "1          2016  2016 1ST          SS16  2016-04-12 00:00:00   \n",
       "2          2016  2016 1ST          SS16  2016-04-12 00:00:00   \n",
       "3          2016  2016 1ST          SS16  2016-04-11 00:00:00   \n",
       "4          2016  2016 1ST          SS16  2016-04-11 00:00:00   \n",
       "\n",
       "            FIRST_RCVD LAST_INVOICED FIRST_INVOICED  \n",
       "0  2016-04-12 00:00:00    2018-10-03     2016-04-12  \n",
       "1  2016-04-12 00:00:00    2018-10-03     2016-04-12  \n",
       "2  2016-04-12 00:00:00    2018-10-03     2016-04-12  \n",
       "3  2016-04-04 00:00:00    2018-10-03     2016-04-04  \n",
       "4  2016-04-04 00:00:00    2018-10-03     2016-04-04  "
      ]
     },
     "execution_count": 5,
     "metadata": {},
     "output_type": "execute_result"
    }
   ],
   "source": [
    "sale.head()"
   ]
  },
  {
   "cell_type": "code",
   "execution_count": 7,
   "metadata": {},
   "outputs": [
    {
     "data": {
      "text/plain": [
       "Index(['STYLE#', 'COLOR', 'Description', 'LAST_RCVD', 'Qty', 'On-Hand',\n",
       "       'CB_Reason', 'ToWH'],\n",
       "      dtype='object')"
      ]
     },
     "execution_count": 7,
     "metadata": {},
     "output_type": "execute_result"
    }
   ],
   "source": [
    "inv = pd.read_excel(\"UNO_inventory_item.xlsx\")\n",
    "inv.columns = inv.columns.str.replace(\" \",\"_\")\n",
    "inv.columns"
   ]
  },
  {
   "cell_type": "code",
   "execution_count": 8,
   "metadata": {},
   "outputs": [
    {
     "data": {
      "text/plain": [
       "(144726, 8)"
      ]
     },
     "execution_count": 8,
     "metadata": {},
     "output_type": "execute_result"
    }
   ],
   "source": [
    "inv.shape"
   ]
  },
  {
   "cell_type": "code",
   "execution_count": 9,
   "metadata": {},
   "outputs": [
    {
     "data": {
      "text/html": [
       "<div>\n",
       "<style scoped>\n",
       "    .dataframe tbody tr th:only-of-type {\n",
       "        vertical-align: middle;\n",
       "    }\n",
       "\n",
       "    .dataframe tbody tr th {\n",
       "        vertical-align: top;\n",
       "    }\n",
       "\n",
       "    .dataframe thead th {\n",
       "        text-align: right;\n",
       "    }\n",
       "</style>\n",
       "<table border=\"1\" class=\"dataframe\">\n",
       "  <thead>\n",
       "    <tr style=\"text-align: right;\">\n",
       "      <th></th>\n",
       "      <th>STYLE#</th>\n",
       "      <th>COLOR</th>\n",
       "      <th>Description</th>\n",
       "      <th>LAST_RCVD</th>\n",
       "      <th>Qty</th>\n",
       "      <th>On-Hand</th>\n",
       "      <th>CB_Reason</th>\n",
       "      <th>ToWH</th>\n",
       "    </tr>\n",
       "  </thead>\n",
       "  <tbody>\n",
       "    <tr>\n",
       "      <th>0</th>\n",
       "      <td>DTA1A9500</td>\n",
       "      <td>IV</td>\n",
       "      <td>SEED BEAD ANKLET</td>\n",
       "      <td>2016-04-12</td>\n",
       "      <td>-144.0</td>\n",
       "      <td>0.0</td>\n",
       "      <td>NaN</td>\n",
       "      <td>NaN</td>\n",
       "    </tr>\n",
       "    <tr>\n",
       "      <th>1</th>\n",
       "      <td>DTA1A9500</td>\n",
       "      <td>IV</td>\n",
       "      <td>SEED BEAD ANKLET</td>\n",
       "      <td>2016-04-12</td>\n",
       "      <td>144.0</td>\n",
       "      <td>0.0</td>\n",
       "      <td>NaN</td>\n",
       "      <td>NaN</td>\n",
       "    </tr>\n",
       "    <tr>\n",
       "      <th>2</th>\n",
       "      <td>DTA1A9500</td>\n",
       "      <td>MUL</td>\n",
       "      <td>SEED BEAD ANKLET</td>\n",
       "      <td>2016-04-12</td>\n",
       "      <td>-144.0</td>\n",
       "      <td>0.0</td>\n",
       "      <td>NaN</td>\n",
       "      <td>NaN</td>\n",
       "    </tr>\n",
       "    <tr>\n",
       "      <th>3</th>\n",
       "      <td>DTA1A9500</td>\n",
       "      <td>MUL</td>\n",
       "      <td>SEED BEAD ANKLET</td>\n",
       "      <td>2016-04-12</td>\n",
       "      <td>144.0</td>\n",
       "      <td>0.0</td>\n",
       "      <td>NaN</td>\n",
       "      <td>NaN</td>\n",
       "    </tr>\n",
       "    <tr>\n",
       "      <th>4</th>\n",
       "      <td>DTA1A9500</td>\n",
       "      <td>TQ</td>\n",
       "      <td>SEED BEAD ANKLET</td>\n",
       "      <td>2016-04-12</td>\n",
       "      <td>-144.0</td>\n",
       "      <td>0.0</td>\n",
       "      <td>NaN</td>\n",
       "      <td>NaN</td>\n",
       "    </tr>\n",
       "  </tbody>\n",
       "</table>\n",
       "</div>"
      ],
      "text/plain": [
       "      STYLE# COLOR       Description  LAST_RCVD    Qty  On-Hand CB_Reason  \\\n",
       "0  DTA1A9500    IV  SEED BEAD ANKLET 2016-04-12 -144.0      0.0       NaN   \n",
       "1  DTA1A9500    IV  SEED BEAD ANKLET 2016-04-12  144.0      0.0       NaN   \n",
       "2  DTA1A9500   MUL  SEED BEAD ANKLET 2016-04-12 -144.0      0.0       NaN   \n",
       "3  DTA1A9500   MUL  SEED BEAD ANKLET 2016-04-12  144.0      0.0       NaN   \n",
       "4  DTA1A9500    TQ  SEED BEAD ANKLET 2016-04-12 -144.0      0.0       NaN   \n",
       "\n",
       "   ToWH  \n",
       "0   NaN  \n",
       "1   NaN  \n",
       "2   NaN  \n",
       "3   NaN  \n",
       "4   NaN  "
      ]
     },
     "execution_count": 9,
     "metadata": {},
     "output_type": "execute_result"
    }
   ],
   "source": [
    "inv.head()"
   ]
  },
  {
   "cell_type": "markdown",
   "metadata": {},
   "source": [
    "### Formatting date columns"
   ]
  },
  {
   "cell_type": "code",
   "execution_count": 13,
   "metadata": {},
   "outputs": [
    {
     "ename": "TypeError",
     "evalue": "strptime() argument 1 must be str, not Series",
     "output_type": "error",
     "traceback": [
      "\u001b[0;31m---------------------------------------------------------------------------\u001b[0m",
      "\u001b[0;31mTypeError\u001b[0m                                 Traceback (most recent call last)",
      "\u001b[0;32m<ipython-input-13-f3ea6de71eaa>\u001b[0m in \u001b[0;36m<module>\u001b[0;34m()\u001b[0m\n\u001b[0;32m----> 1\u001b[0;31m \u001b[0msale\u001b[0m\u001b[0;34m[\u001b[0m\u001b[0;34m'INVC_DATE'\u001b[0m\u001b[0;34m]\u001b[0m \u001b[0;34m=\u001b[0m \u001b[0mdatetime\u001b[0m\u001b[0;34m.\u001b[0m\u001b[0mstrptime\u001b[0m\u001b[0;34m(\u001b[0m\u001b[0msale\u001b[0m\u001b[0;34m[\u001b[0m\u001b[0;34m'INVC_DATE'\u001b[0m\u001b[0;34m]\u001b[0m\u001b[0;34m,\u001b[0m \u001b[0;34m'%y-%m-%d'\u001b[0m\u001b[0;34m)\u001b[0m\u001b[0;34m\u001b[0m\u001b[0m\n\u001b[0m",
      "\u001b[0;31mTypeError\u001b[0m: strptime() argument 1 must be str, not Series"
     ]
    }
   ],
   "source": [
    "sale['INVC_DATE'] = [lambda x: datetime.strptime(sale['INVC_DATE'], '%y-%m-%d')"
   ]
  },
  {
   "cell_type": "code",
   "execution_count": 14,
   "metadata": {},
   "outputs": [
    {
     "data": {
      "text/plain": [
       "Timestamp('2016-04-12 00:00:00')"
      ]
     },
     "execution_count": 14,
     "metadata": {},
     "output_type": "execute_result"
    }
   ],
   "source": [
    "sale['INVC_DATE'][1]"
   ]
  },
  {
   "cell_type": "code",
   "execution_count": null,
   "metadata": {},
   "outputs": [],
   "source": []
  }
 ],
 "metadata": {
  "kernelspec": {
   "display_name": "Python 3",
   "language": "python",
   "name": "python3"
  },
  "language_info": {
   "codemirror_mode": {
    "name": "ipython",
    "version": 3
   },
   "file_extension": ".py",
   "mimetype": "text/x-python",
   "name": "python",
   "nbconvert_exporter": "python",
   "pygments_lexer": "ipython3",
   "version": "3.6.5"
  }
 },
 "nbformat": 4,
 "nbformat_minor": 2
}
