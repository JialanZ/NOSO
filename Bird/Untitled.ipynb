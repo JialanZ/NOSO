{
 "cells": [
  {
   "cell_type": "code",
   "execution_count": 1,
   "metadata": {},
   "outputs": [],
   "source": [
    "import pandas as pd\n",
    "import numpy as np\n",
    "import re\n",
    "pd.options.display.max_rows = 1000\n",
    "pd.options.display.max_columns = 300\n",
    "import matplotlib.pyplot"
   ]
  },
  {
   "cell_type": "code",
   "execution_count": 2,
   "metadata": {},
   "outputs": [],
   "source": [
    "sale = pd.read_csv('../UNO_Sale_vs_RCVD.csv')"
   ]
  },
  {
   "cell_type": "code",
   "execution_count": null,
   "metadata": {},
   "outputs": [],
   "source": [
    "#sale = sale.drop(['Categories','FIRST RCVD'], axis = 1)"
   ]
  },
  {
   "cell_type": "code",
   "execution_count": null,
   "metadata": {},
   "outputs": [],
   "source": [
    "#sale.head(5)"
   ]
  },
  {
   "cell_type": "code",
   "execution_count": null,
   "metadata": {},
   "outputs": [],
   "source": [
    "#sale['style_color'] = sale['STYLE#']+sale['COLOR']"
   ]
  },
  {
   "cell_type": "code",
   "execution_count": 3,
   "metadata": {},
   "outputs": [],
   "source": [
    "sale.DESCRIPTION = sale.DESCRIPTION.str.replace('\\d+', '')"
   ]
  },
  {
   "cell_type": "code",
   "execution_count": 4,
   "metadata": {},
   "outputs": [],
   "source": [
    "sale.DESCRIPTION = sale.DESCRIPTION.str.replace('[^A-Za-z0-9\\s]+', '')"
   ]
  },
  {
   "cell_type": "code",
   "execution_count": 5,
   "metadata": {},
   "outputs": [],
   "source": [
    "sale.DESCRIPTION = sale.DESCRIPTION.str.lower().str.strip()"
   ]
  },
  {
   "cell_type": "code",
   "execution_count": 6,
   "metadata": {},
   "outputs": [],
   "source": [
    "sale = sale.drop(sale.index[[52522,108817,108818,108819,108820]])"
   ]
  },
  {
   "cell_type": "code",
   "execution_count": 7,
   "metadata": {},
   "outputs": [],
   "source": [
    "sale['Categories'] = sale['DESCRIPTION'].str.split()"
   ]
  },
  {
   "cell_type": "code",
   "execution_count": 8,
   "metadata": {},
   "outputs": [],
   "source": [
    "def up1(x):\n",
    "    return \" \".join(x[-7:])\n",
    "def up2(y):\n",
    "    return list(map(up1,y))"
   ]
  },
  {
   "cell_type": "code",
   "execution_count": 9,
   "metadata": {},
   "outputs": [],
   "source": [
    "sale['Categories1'] = up2(sale['Categories'])"
   ]
  },
  {
   "cell_type": "code",
   "execution_count": 10,
   "metadata": {},
   "outputs": [],
   "source": [
    "sale.loc[sale.Categories1.str.contains('earrings'), 'Categories1'] = 'EarRings'\n",
    "sale.loc[sale.Categories1.str.contains('er'), 'Categories1'] = 'EarRings'\n",
    "sale.loc[sale.Categories1.str.contains('earring'), 'Categories1'] = 'EarRings'\n",
    "sale.loc[sale.Categories1.str.contains('studs'), 'Categories1'] = 'EarRings'\n",
    "sale.loc[sale.Categories1.str.contains('ear'), 'Categories1'] = 'EarRings'"
   ]
  },
  {
   "cell_type": "code",
   "execution_count": 11,
   "metadata": {},
   "outputs": [],
   "source": [
    "sale.loc[sale.Categories1.str.contains('bags'), 'Categories1'] = 'Accessories'\n",
    "sale.loc[sale.Categories1.str.contains('body'), 'Categories1'] = 'Accessories'\n",
    "sale.loc[sale.Categories1.str.contains('anklet'), 'Categories1'] = 'Accessories'\n",
    "sale.loc[sale.Categories1.str.contains('ank'), 'Categories1'] = 'Accessories'\n",
    "sale.loc[sale.Categories1.str.contains('pins'), 'Categories1'] = 'Accessories'\n",
    "sale.loc[sale.Categories1.str.contains('brooches'), 'Categories1'] = 'Accessories'"
   ]
  },
  {
   "cell_type": "code",
   "execution_count": 12,
   "metadata": {},
   "outputs": [],
   "source": [
    "sale.loc[sale.Categories1.str.contains('chain'), 'Categories1'] = 'Accessories'"
   ]
  },
  {
   "cell_type": "code",
   "execution_count": 13,
   "metadata": {},
   "outputs": [],
   "source": [
    "sale.loc[sale.Categories1.str.contains('nk'), 'Categories1'] = 'Necklace'\n",
    "sale.loc[sale.Categories1.str.contains('pendant'), 'Categories1'] = 'Necklace'\n",
    "sale.loc[sale.Categories1.str.contains('necklace'), 'Categories1'] = 'Necklace'\n",
    "sale.loc[sale.Categories1.str.contains('y shape glass bead'), 'Categories1'] = 'Necklace'\n",
    "sale.loc[sale.Categories1.str.contains('natural color wood beads with suede'), 'Categories1'] = 'Necklace'\n",
    "sale.loc[sale.Categories1.str.contains('choker'), 'Categories1'] = 'Necklace'\n",
    "sale.loc[sale.Categories1.str.contains('natural mini stone bar'), 'Categories1'] = 'Necklace'\n",
    "sale.loc[sale.Categories1.str.contains('cross'), 'Categories1'] = 'Necklace'\n",
    "sale.loc[sale.Categories1.str.contains('pend'), 'Categories1'] = 'Necklace'\n",
    "sale.loc[sale.Categories1.str.contains('neck'), 'Categories1'] = 'Necklace'\n",
    "sale.loc[sale.Categories1.str.contains('pendent'), 'Categories1'] = 'Necklace'\n",
    "sale.loc[sale.Categories1.str.contains('locket'), 'Categories1'] = 'Necklace'"
   ]
  },
  {
   "cell_type": "code",
   "execution_count": 14,
   "metadata": {},
   "outputs": [],
   "source": [
    "sale.loc[sale.Categories1.str.contains('lock'), 'Categories1'] = 'Necklace'"
   ]
  },
  {
   "cell_type": "code",
   "execution_count": 15,
   "metadata": {},
   "outputs": [],
   "source": [
    "sale.loc[sale.Categories1.str.contains('br'), 'Categories1'] = 'Bracelet'\n",
    "sale.loc[sale.Categories1.str.contains('bl'), 'Categories1'] = 'Bracelet'\n",
    "sale.loc[sale.Categories1.str.contains('color wood beads with natural stone'), 'Categories1'] = 'Bracelet'"
   ]
  },
  {
   "cell_type": "code",
   "execution_count": 16,
   "metadata": {},
   "outputs": [],
   "source": [
    "sale.loc[sale.Categories1.str.contains('cuff'), 'Categories1'] = 'Bracelet'"
   ]
  },
  {
   "cell_type": "code",
   "execution_count": 17,
   "metadata": {},
   "outputs": [],
   "source": [
    "sale.loc[sale.Categories1.str.contains('tassel'), 'Categories1'] = 'Tassel'\n",
    "sale.loc[sale.Categories1.str.contains('tassle'), 'Categories1'] = 'Tassel'\n",
    "sale.loc[sale.Categories1.str.contains('tsl'), 'Categories1'] = 'Tassel'"
   ]
  },
  {
   "cell_type": "code",
   "execution_count": 18,
   "metadata": {},
   "outputs": [],
   "source": [
    "sale.loc[sale.Categories1.str.contains('ring'), 'Categories1'] = 'Ring'\n",
    "sale.loc[sale.Categories1.str.contains('charm'), 'Categories1'] = 'Charm'\n",
    "sale.loc[sale.Categories1.str.contains('crystal beads w natural stone'), 'Categories1'] = 'Charm'\n",
    "sale.loc[sale.Categories1.str.contains('color beads x stones'), 'Categories1'] = 'Charm'\n",
    "sale.loc[sale.Categories1.str.contains('chrm'), 'Categories1'] = 'Charm'"
   ]
  },
  {
   "cell_type": "code",
   "execution_count": 19,
   "metadata": {},
   "outputs": [],
   "source": [
    "category = ['Accessories', 'EarRings', 'Necklace', 'Bracelet', 'Tassel', 'Ring', 'Charm']"
   ]
  },
  {
   "cell_type": "code",
   "execution_count": 20,
   "metadata": {},
   "outputs": [],
   "source": [
    "sale.loc[~sale['Categories1'].isin(category), 'Categories1']='others'"
   ]
  },
  {
   "cell_type": "code",
   "execution_count": 21,
   "metadata": {
    "scrolled": false
   },
   "outputs": [
    {
     "data": {
      "text/plain": [
       "EarRings       57439\n",
       "Necklace       30223\n",
       "Bracelet        7718\n",
       "others          7592\n",
       "Accessories     4595\n",
       "Tassel          2214\n",
       "Charm            780\n",
       "Ring             477\n",
       "Name: Categories1, dtype: int64"
      ]
     },
     "execution_count": 21,
     "metadata": {},
     "output_type": "execute_result"
    }
   ],
   "source": [
    "sale['Categories1'].value_counts()"
   ]
  },
  {
   "cell_type": "code",
   "execution_count": null,
   "metadata": {},
   "outputs": [],
   "source": [
    "sale.to_pickle('sale_with_categories1.pkl')"
   ]
  },
  {
   "cell_type": "code",
   "execution_count": null,
   "metadata": {},
   "outputs": [],
   "source": []
  },
  {
   "cell_type": "code",
   "execution_count": null,
   "metadata": {},
   "outputs": [],
   "source": [
    "sale['Categories_color'] = sale['Categories1'] + sale['COLOR']"
   ]
  },
  {
   "cell_type": "code",
   "execution_count": null,
   "metadata": {},
   "outputs": [],
   "source": [
    "sale.head(5)"
   ]
  },
  {
   "cell_type": "code",
   "execution_count": null,
   "metadata": {},
   "outputs": [],
   "source": [
    "sale['REASON'].value_counts()"
   ]
  },
  {
   "cell_type": "code",
   "execution_count": null,
   "metadata": {},
   "outputs": [],
   "source": [
    "sale['UNIT PRICE'] = sale['UNIT PRICE'].str.replace('$', '')"
   ]
  },
  {
   "cell_type": "code",
   "execution_count": null,
   "metadata": {},
   "outputs": [],
   "source": [
    "sale['EXT-AMT'] = sale['EXT-AMT'].str.replace('$', '')"
   ]
  },
  {
   "cell_type": "code",
   "execution_count": null,
   "metadata": {},
   "outputs": [],
   "source": [
    "sale['UNIT PRICE'] = sale['UNIT PRICE'].apply(pd.to_numeric, errors = 'ignore')"
   ]
  },
  {
   "cell_type": "code",
   "execution_count": null,
   "metadata": {},
   "outputs": [],
   "source": [
    "sale['UNIT PRICE'] = sale['UNIT PRICE'].apply(pd.to_numeric, errors = 'ignore')"
   ]
  },
  {
   "cell_type": "code",
   "execution_count": null,
   "metadata": {},
   "outputs": [],
   "source": [
    "sale['EXT-AMT'] = sale['EXT-AMT'].apply(pd.to_numeric, errors = 'ignore')"
   ]
  },
  {
   "cell_type": "code",
   "execution_count": null,
   "metadata": {},
   "outputs": [],
   "source": [
    "sale['Cost_per_unit'] = sale['UNIT PRICE'] * 0.5"
   ]
  },
  {
   "cell_type": "code",
   "execution_count": null,
   "metadata": {},
   "outputs": [],
   "source": [
    "sale['Variable_Cost'] = sale['Cost_per_unit'] * sale['QTY']"
   ]
  },
  {
   "cell_type": "code",
   "execution_count": null,
   "metadata": {},
   "outputs": [],
   "source": []
  },
  {
   "cell_type": "code",
   "execution_count": null,
   "metadata": {},
   "outputs": [],
   "source": [
    "sale.head(5)"
   ]
  }
 ],
 "metadata": {
  "kernelspec": {
   "display_name": "Python 3",
   "language": "python",
   "name": "python3"
  },
  "language_info": {
   "codemirror_mode": {
    "name": "ipython",
    "version": 3
   },
   "file_extension": ".py",
   "mimetype": "text/x-python",
   "name": "python",
   "nbconvert_exporter": "python",
   "pygments_lexer": "ipython3",
   "version": "3.6.5"
  }
 },
 "nbformat": 4,
 "nbformat_minor": 2
}
